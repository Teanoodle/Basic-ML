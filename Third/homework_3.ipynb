{
  "cells": [
    {
      "cell_type": "markdown",
      "id": "24907a36",
      "metadata": {
        "id": "24907a36"
      },
      "source": [
        "# Problem Sheet 3\n"
      ]
    },
    {
      "cell_type": "markdown",
      "id": "072db3d8",
      "metadata": {
        "id": "072db3d8"
      },
      "source": [
        "In this problem sheet, you are expected to deal with a classification problem for loan approval. You will develop ability of\n",
        "- Importing the datas from either online/local data source;\n",
        "- Performing feature engineering\n",
        "- Demonstrating the ability to apply Gradient Boost and LSTM\n",
        "- Comparing the performance of different models."
      ]
    },
    {
      "cell_type": "markdown",
      "id": "593a4ad3",
      "metadata": {
        "id": "593a4ad3"
      },
      "source": [
        "1. Import the S&P500 stocks price datas (all_stocks_5yr.csv) as pandas Dataframe into your notebook, from the source Dataset: https://www.kaggle.com/camnugent/sandp500, name this data frame as \"sp500\"."
      ]
    },
    {
      "cell_type": "code",
      "execution_count": null,
      "id": "fzkdRu60jmMe",
      "metadata": {
        "id": "fzkdRu60jmMe"
      },
      "outputs": [],
      "source": []
    },
    {
      "cell_type": "markdown",
      "id": "oo5LkyV2joK_",
      "metadata": {
        "id": "oo5LkyV2joK_"
      },
      "source": [
        "2. Change the price time series into the return time series, by performing the difference of logarithm. Perform the ADF test to the new series.  "
      ]
    },
    {
      "cell_type": "code",
      "execution_count": null,
      "id": "FY_7QFYsp7bM",
      "metadata": {
        "id": "FY_7QFYsp7bM"
      },
      "outputs": [],
      "source": []
    },
    {
      "cell_type": "markdown",
      "id": "cad92a29",
      "metadata": {
        "id": "cad92a29"
      },
      "source": [
        "3. Perform EDA\n",
        "\n"
      ]
    },
    {
      "cell_type": "code",
      "execution_count": null,
      "id": "-d7LDG-Zp8XV",
      "metadata": {
        "id": "-d7LDG-Zp8XV"
      },
      "outputs": [],
      "source": []
    },
    {
      "cell_type": "markdown",
      "id": "33fd7e98",
      "metadata": {
        "id": "33fd7e98"
      },
      "source": [
        "4.  Associate to each day's closed price the following\n",
        "\n",
        "\n",
        "*   Moving average of 5 days, 10 days, 30 days, 60 days.\n",
        "*   Relative strength index\n",
        "*   On-balance volume\n",
        "\n",
        "\n",
        "\n"
      ]
    },
    {
      "cell_type": "code",
      "execution_count": null,
      "id": "6c9NdQDhp_Ms",
      "metadata": {
        "id": "6c9NdQDhp_Ms"
      },
      "outputs": [],
      "source": []
    },
    {
      "cell_type": "markdown",
      "id": "5eccf03f",
      "metadata": {
        "id": "5eccf03f"
      },
      "source": [
        "5. Split the datas for training (80%) and testing (20%) respectively:\n",
        "\n",
        "\n"
      ]
    },
    {
      "cell_type": "code",
      "execution_count": null,
      "id": "cd6f8d1b",
      "metadata": {
        "id": "cd6f8d1b"
      },
      "outputs": [],
      "source": []
    },
    {
      "cell_type": "markdown",
      "id": "fefd2522",
      "metadata": {
        "id": "fefd2522"
      },
      "source": [
        "6. Apply the XGBoost model and report the result."
      ]
    },
    {
      "cell_type": "code",
      "execution_count": null,
      "id": "1-h4cUIvVZEp",
      "metadata": {
        "id": "1-h4cUIvVZEp"
      },
      "outputs": [],
      "source": []
    },
    {
      "cell_type": "markdown",
      "id": "8a68e059",
      "metadata": {
        "id": "8a68e059"
      },
      "source": [
        "7. Apply the LSTM model and report the result."
      ]
    },
    {
      "cell_type": "code",
      "execution_count": null,
      "id": "c349610e",
      "metadata": {
        "id": "c349610e"
      },
      "outputs": [],
      "source": []
    },
    {
      "cell_type": "markdown",
      "id": "z0W8PYowNnU5",
      "metadata": {
        "id": "z0W8PYowNnU5"
      },
      "source": [
        "8. Now label the daily return as being positive or negative and predict the direction of the daily market move as a classfication problem. If possible, modify the models and try to achieve an accuracy of at least 60%."
      ]
    },
    {
      "cell_type": "code",
      "execution_count": null,
      "id": "cb4ca32c",
      "metadata": {},
      "outputs": [],
      "source": []
    }
  ],
  "metadata": {
    "colab": {
      "provenance": []
    },
    "kernelspec": {
      "display_name": "Python 3 (ipykernel)",
      "language": "python",
      "name": "python3"
    },
    "language_info": {
      "codemirror_mode": {
        "name": "ipython",
        "version": 3
      },
      "file_extension": ".py",
      "mimetype": "text/x-python",
      "name": "python",
      "nbconvert_exporter": "python",
      "pygments_lexer": "ipython3",
      "version": "3.9.7"
    }
  },
  "nbformat": 4,
  "nbformat_minor": 5
}
