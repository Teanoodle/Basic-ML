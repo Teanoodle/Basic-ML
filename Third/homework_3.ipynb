{
  "cells": [
    {
      "cell_type": "markdown",
      "id": "24907a36",
      "metadata": {
        "id": "24907a36"
      },
      "source": [
        "# Problem Sheet 3\n"
      ]
    },
    {
      "cell_type": "markdown",
      "id": "072db3d8",
      "metadata": {
        "id": "072db3d8"
      },
      "source": [
        "In this problem sheet, you are expected to deal with a classification problem for loan approval. You will develop ability of\n",
        "- Importing the datas from either online/local data source;\n",
        "- Performing feature engineering\n",
        "- Demonstrating the ability to apply Gradient Boost and LSTM\n",
        "- Comparing the performance of different models."
      ]
    },
    {
      "cell_type": "markdown",
      "id": "593a4ad3",
      "metadata": {
        "id": "593a4ad3"
      },
      "source": [
        "1. Import the S&P500 stocks price datas (all_stocks_5yr.csv) as pandas Dataframe into your notebook, from the source Dataset: https://www.kaggle.com/camnugent/sandp500, name this data frame as \"sp500\"."
      ]
    },
    {
      "cell_type": "code",
      "execution_count": 19,
      "id": "441d2178",
      "metadata": {},
      "outputs": [],
      "source": [
        "import pandas as pd\n",
        "import numpy as np\n",
        "from statsmodels.tsa.stattools import adfuller\n",
        "import matplotlib.pyplot as plt\n",
        "import matplotlib.dates as mdates\n",
        "from sklearn.model_selection import train_test_split\n",
        "import xgboost as xgb\n",
        "from sklearn.metrics import mean_squared_error, r2_score, mean_absolute_error\n",
        "import tensorflow as tf\n",
        "from keras.models import Sequential\n",
        "from keras.layers import Input, LSTM, Dropout, Dense\n",
        "from sklearn.preprocessing import MinMaxScaler"
      ]
    },
    {
      "cell_type": "code",
      "execution_count": 20,
      "id": "fzkdRu60jmMe",
      "metadata": {
        "id": "fzkdRu60jmMe"
      },
      "outputs": [
        {
          "data": {
            "application/vnd.microsoft.datawrangler.viewer.v0+json": {
              "columns": [
                {
                  "name": "index",
                  "rawType": "int64",
                  "type": "integer"
                },
                {
                  "name": "date",
                  "rawType": "object",
                  "type": "string"
                },
                {
                  "name": "open",
                  "rawType": "float64",
                  "type": "float"
                },
                {
                  "name": "high",
                  "rawType": "float64",
                  "type": "float"
                },
                {
                  "name": "low",
                  "rawType": "float64",
                  "type": "float"
                },
                {
                  "name": "close",
                  "rawType": "float64",
                  "type": "float"
                },
                {
                  "name": "volume",
                  "rawType": "int64",
                  "type": "integer"
                },
                {
                  "name": "Name",
                  "rawType": "object",
                  "type": "string"
                }
              ],
              "ref": "4a0f8d1e-42de-405b-ad57-c87186ec525a",
              "rows": [
                [
                  "0",
                  "2013-02-08",
                  "15.07",
                  "15.12",
                  "14.63",
                  "14.75",
                  "8407500",
                  "AAL"
                ],
                [
                  "1",
                  "2013-02-11",
                  "14.89",
                  "15.01",
                  "14.26",
                  "14.46",
                  "8882000",
                  "AAL"
                ],
                [
                  "2",
                  "2013-02-12",
                  "14.45",
                  "14.51",
                  "14.1",
                  "14.27",
                  "8126000",
                  "AAL"
                ],
                [
                  "3",
                  "2013-02-13",
                  "14.3",
                  "14.94",
                  "14.25",
                  "14.66",
                  "10259500",
                  "AAL"
                ],
                [
                  "4",
                  "2013-02-14",
                  "14.94",
                  "14.96",
                  "13.16",
                  "13.99",
                  "31879900",
                  "AAL"
                ],
                [
                  "5",
                  "2013-02-15",
                  "13.93",
                  "14.61",
                  "13.93",
                  "14.5",
                  "15628000",
                  "AAL"
                ],
                [
                  "6",
                  "2013-02-19",
                  "14.33",
                  "14.56",
                  "14.08",
                  "14.26",
                  "11354400",
                  "AAL"
                ],
                [
                  "7",
                  "2013-02-20",
                  "14.17",
                  "14.26",
                  "13.15",
                  "13.33",
                  "14725200",
                  "AAL"
                ],
                [
                  "8",
                  "2013-02-21",
                  "13.62",
                  "13.95",
                  "12.9",
                  "13.37",
                  "11922100",
                  "AAL"
                ],
                [
                  "9",
                  "2013-02-22",
                  "13.57",
                  "13.6",
                  "13.21",
                  "13.57",
                  "6071400",
                  "AAL"
                ],
                [
                  "10",
                  "2013-02-25",
                  "13.6",
                  "13.76",
                  "13.0",
                  "13.02",
                  "7186400",
                  "AAL"
                ],
                [
                  "11",
                  "2013-02-26",
                  "13.14",
                  "13.42",
                  "12.7",
                  "13.26",
                  "9419000",
                  "AAL"
                ],
                [
                  "12",
                  "2013-02-27",
                  "13.28",
                  "13.62",
                  "13.18",
                  "13.41",
                  "7390500",
                  "AAL"
                ],
                [
                  "13",
                  "2013-02-28",
                  "13.49",
                  "13.63",
                  "13.39",
                  "13.43",
                  "6143600",
                  "AAL"
                ],
                [
                  "14",
                  "2013-03-01",
                  "13.37",
                  "13.95",
                  "13.32",
                  "13.61",
                  "7376800",
                  "AAL"
                ],
                [
                  "15",
                  "2013-03-04",
                  "13.5",
                  "14.07",
                  "13.47",
                  "13.9",
                  "8174800",
                  "AAL"
                ],
                [
                  "16",
                  "2013-03-05",
                  "14.01",
                  "14.05",
                  "13.71",
                  "14.05",
                  "7676100",
                  "AAL"
                ],
                [
                  "17",
                  "2013-03-06",
                  "14.52",
                  "14.68",
                  "14.25",
                  "14.57",
                  "13243200",
                  "AAL"
                ],
                [
                  "18",
                  "2013-03-07",
                  "14.7",
                  "14.93",
                  "14.5",
                  "14.82",
                  "9125300",
                  "AAL"
                ],
                [
                  "19",
                  "2013-03-08",
                  "14.99",
                  "15.2",
                  "14.84",
                  "14.92",
                  "10593700",
                  "AAL"
                ],
                [
                  "20",
                  "2013-03-11",
                  "14.85",
                  "15.15",
                  "14.71",
                  "15.13",
                  "6961800",
                  "AAL"
                ],
                [
                  "21",
                  "2013-03-12",
                  "15.14",
                  "15.6",
                  "14.95",
                  "15.5",
                  "8999100",
                  "AAL"
                ],
                [
                  "22",
                  "2013-03-13",
                  "15.54",
                  "16.2",
                  "15.48",
                  "15.91",
                  "11380000",
                  "AAL"
                ],
                [
                  "23",
                  "2013-03-14",
                  "15.98",
                  "16.36",
                  "15.93",
                  "16.25",
                  "8383300",
                  "AAL"
                ],
                [
                  "24",
                  "2013-03-15",
                  "16.45",
                  "16.54",
                  "15.88",
                  "15.98",
                  "17667700",
                  "AAL"
                ],
                [
                  "25",
                  "2013-03-18",
                  "15.8",
                  "16.33",
                  "15.71",
                  "16.29",
                  "6514100",
                  "AAL"
                ],
                [
                  "26",
                  "2013-03-19",
                  "16.48",
                  "16.85",
                  "16.41",
                  "16.78",
                  "11805300",
                  "AAL"
                ],
                [
                  "27",
                  "2013-03-20",
                  "17.13",
                  "17.33",
                  "16.87",
                  "17.23",
                  "10819800",
                  "AAL"
                ],
                [
                  "28",
                  "2013-03-21",
                  "17.21",
                  "17.43",
                  "16.87",
                  "17.0",
                  "10740800",
                  "AAL"
                ],
                [
                  "29",
                  "2013-03-22",
                  "17.1",
                  "17.29",
                  "16.77",
                  "16.86",
                  "8545200",
                  "AAL"
                ],
                [
                  "30",
                  "2013-03-25",
                  "16.92",
                  "17.0",
                  "16.35",
                  "16.6",
                  "8400000",
                  "AAL"
                ],
                [
                  "31",
                  "2013-03-26",
                  "16.67",
                  "16.84",
                  "16.5",
                  "16.51",
                  "6898500",
                  "AAL"
                ],
                [
                  "32",
                  "2013-03-27",
                  "16.48",
                  "16.77",
                  "16.33",
                  "16.65",
                  "5537100",
                  "AAL"
                ],
                [
                  "33",
                  "2013-03-28",
                  "17.0",
                  "17.09",
                  "16.82",
                  "16.97",
                  "8324100",
                  "AAL"
                ],
                [
                  "34",
                  "2013-04-01",
                  "17.02",
                  "17.13",
                  "16.54",
                  "16.67",
                  "5222300",
                  "AAL"
                ],
                [
                  "35",
                  "2013-04-02",
                  "16.48",
                  "16.5",
                  "15.71",
                  "15.74",
                  "14595600",
                  "AAL"
                ],
                [
                  "36",
                  "2013-04-03",
                  "15.82",
                  "15.92",
                  "15.13",
                  "15.53",
                  "14658300",
                  "AAL"
                ],
                [
                  "37",
                  "2013-04-04",
                  "15.12",
                  "15.71",
                  "15.12",
                  "15.69",
                  "5520300",
                  "AAL"
                ],
                [
                  "38",
                  "2013-04-05",
                  "15.17",
                  "15.79",
                  "15.03",
                  "15.72",
                  "5252300",
                  "AAL"
                ],
                [
                  "39",
                  "2013-04-08",
                  "15.82",
                  "15.97",
                  "15.53",
                  "15.84",
                  "3780700",
                  "AAL"
                ],
                [
                  "40",
                  "2013-04-09",
                  "16.07",
                  "16.1",
                  "15.67",
                  "15.7",
                  "4420200",
                  "AAL"
                ],
                [
                  "41",
                  "2013-04-10",
                  "15.74",
                  "15.98",
                  "15.7",
                  "15.78",
                  "3650600",
                  "AAL"
                ],
                [
                  "42",
                  "2013-04-11",
                  "15.77",
                  "16.38",
                  "15.75",
                  "16.19",
                  "5062200",
                  "AAL"
                ],
                [
                  "43",
                  "2013-04-12",
                  "16.11",
                  "16.39",
                  "15.95",
                  "16.14",
                  "3751800",
                  "AAL"
                ],
                [
                  "44",
                  "2013-04-15",
                  "16.2",
                  "16.39",
                  "15.47",
                  "15.59",
                  "6243400",
                  "AAL"
                ],
                [
                  "45",
                  "2013-04-16",
                  "15.96",
                  "16.74",
                  "15.81",
                  "16.37",
                  "10458200",
                  "AAL"
                ],
                [
                  "46",
                  "2013-04-17",
                  "16.17",
                  "16.55",
                  "15.9",
                  "16.52",
                  "6581900",
                  "AAL"
                ],
                [
                  "47",
                  "2013-04-18",
                  "16.54",
                  "16.54",
                  "15.95",
                  "16.1",
                  "7633300",
                  "AAL"
                ],
                [
                  "48",
                  "2013-04-19",
                  "16.1",
                  "16.24",
                  "15.85",
                  "16.02",
                  "5762600",
                  "AAL"
                ],
                [
                  "49",
                  "2013-04-22",
                  "15.99",
                  "16.0",
                  "15.5",
                  "15.52",
                  "9227100",
                  "AAL"
                ]
              ],
              "shape": {
                "columns": 7,
                "rows": 619040
              }
            },
            "text/html": [
              "<div>\n",
              "<style scoped>\n",
              "    .dataframe tbody tr th:only-of-type {\n",
              "        vertical-align: middle;\n",
              "    }\n",
              "\n",
              "    .dataframe tbody tr th {\n",
              "        vertical-align: top;\n",
              "    }\n",
              "\n",
              "    .dataframe thead th {\n",
              "        text-align: right;\n",
              "    }\n",
              "</style>\n",
              "<table border=\"1\" class=\"dataframe\">\n",
              "  <thead>\n",
              "    <tr style=\"text-align: right;\">\n",
              "      <th></th>\n",
              "      <th>date</th>\n",
              "      <th>open</th>\n",
              "      <th>high</th>\n",
              "      <th>low</th>\n",
              "      <th>close</th>\n",
              "      <th>volume</th>\n",
              "      <th>Name</th>\n",
              "    </tr>\n",
              "  </thead>\n",
              "  <tbody>\n",
              "    <tr>\n",
              "      <th>0</th>\n",
              "      <td>2013-02-08</td>\n",
              "      <td>15.07</td>\n",
              "      <td>15.12</td>\n",
              "      <td>14.63</td>\n",
              "      <td>14.75</td>\n",
              "      <td>8407500</td>\n",
              "      <td>AAL</td>\n",
              "    </tr>\n",
              "    <tr>\n",
              "      <th>1</th>\n",
              "      <td>2013-02-11</td>\n",
              "      <td>14.89</td>\n",
              "      <td>15.01</td>\n",
              "      <td>14.26</td>\n",
              "      <td>14.46</td>\n",
              "      <td>8882000</td>\n",
              "      <td>AAL</td>\n",
              "    </tr>\n",
              "    <tr>\n",
              "      <th>2</th>\n",
              "      <td>2013-02-12</td>\n",
              "      <td>14.45</td>\n",
              "      <td>14.51</td>\n",
              "      <td>14.10</td>\n",
              "      <td>14.27</td>\n",
              "      <td>8126000</td>\n",
              "      <td>AAL</td>\n",
              "    </tr>\n",
              "    <tr>\n",
              "      <th>3</th>\n",
              "      <td>2013-02-13</td>\n",
              "      <td>14.30</td>\n",
              "      <td>14.94</td>\n",
              "      <td>14.25</td>\n",
              "      <td>14.66</td>\n",
              "      <td>10259500</td>\n",
              "      <td>AAL</td>\n",
              "    </tr>\n",
              "    <tr>\n",
              "      <th>4</th>\n",
              "      <td>2013-02-14</td>\n",
              "      <td>14.94</td>\n",
              "      <td>14.96</td>\n",
              "      <td>13.16</td>\n",
              "      <td>13.99</td>\n",
              "      <td>31879900</td>\n",
              "      <td>AAL</td>\n",
              "    </tr>\n",
              "    <tr>\n",
              "      <th>...</th>\n",
              "      <td>...</td>\n",
              "      <td>...</td>\n",
              "      <td>...</td>\n",
              "      <td>...</td>\n",
              "      <td>...</td>\n",
              "      <td>...</td>\n",
              "      <td>...</td>\n",
              "    </tr>\n",
              "    <tr>\n",
              "      <th>619035</th>\n",
              "      <td>2018-02-01</td>\n",
              "      <td>76.84</td>\n",
              "      <td>78.27</td>\n",
              "      <td>76.69</td>\n",
              "      <td>77.82</td>\n",
              "      <td>2982259</td>\n",
              "      <td>ZTS</td>\n",
              "    </tr>\n",
              "    <tr>\n",
              "      <th>619036</th>\n",
              "      <td>2018-02-02</td>\n",
              "      <td>77.53</td>\n",
              "      <td>78.12</td>\n",
              "      <td>76.73</td>\n",
              "      <td>76.78</td>\n",
              "      <td>2595187</td>\n",
              "      <td>ZTS</td>\n",
              "    </tr>\n",
              "    <tr>\n",
              "      <th>619037</th>\n",
              "      <td>2018-02-05</td>\n",
              "      <td>76.64</td>\n",
              "      <td>76.92</td>\n",
              "      <td>73.18</td>\n",
              "      <td>73.83</td>\n",
              "      <td>2962031</td>\n",
              "      <td>ZTS</td>\n",
              "    </tr>\n",
              "    <tr>\n",
              "      <th>619038</th>\n",
              "      <td>2018-02-06</td>\n",
              "      <td>72.74</td>\n",
              "      <td>74.56</td>\n",
              "      <td>72.13</td>\n",
              "      <td>73.27</td>\n",
              "      <td>4924323</td>\n",
              "      <td>ZTS</td>\n",
              "    </tr>\n",
              "    <tr>\n",
              "      <th>619039</th>\n",
              "      <td>2018-02-07</td>\n",
              "      <td>72.70</td>\n",
              "      <td>75.00</td>\n",
              "      <td>72.69</td>\n",
              "      <td>73.86</td>\n",
              "      <td>4534912</td>\n",
              "      <td>ZTS</td>\n",
              "    </tr>\n",
              "  </tbody>\n",
              "</table>\n",
              "<p>619040 rows × 7 columns</p>\n",
              "</div>"
            ],
            "text/plain": [
              "              date   open   high    low  close    volume Name\n",
              "0       2013-02-08  15.07  15.12  14.63  14.75   8407500  AAL\n",
              "1       2013-02-11  14.89  15.01  14.26  14.46   8882000  AAL\n",
              "2       2013-02-12  14.45  14.51  14.10  14.27   8126000  AAL\n",
              "3       2013-02-13  14.30  14.94  14.25  14.66  10259500  AAL\n",
              "4       2013-02-14  14.94  14.96  13.16  13.99  31879900  AAL\n",
              "...            ...    ...    ...    ...    ...       ...  ...\n",
              "619035  2018-02-01  76.84  78.27  76.69  77.82   2982259  ZTS\n",
              "619036  2018-02-02  77.53  78.12  76.73  76.78   2595187  ZTS\n",
              "619037  2018-02-05  76.64  76.92  73.18  73.83   2962031  ZTS\n",
              "619038  2018-02-06  72.74  74.56  72.13  73.27   4924323  ZTS\n",
              "619039  2018-02-07  72.70  75.00  72.69  73.86   4534912  ZTS\n",
              "\n",
              "[619040 rows x 7 columns]"
            ]
          },
          "execution_count": 20,
          "metadata": {},
          "output_type": "execute_result"
        }
      ],
      "source": [
        "sp500 = pd.read_csv('all_stocks_5yr.csv')\n",
        "sp500"
      ]
    },
    {
      "cell_type": "markdown",
      "id": "oo5LkyV2joK_",
      "metadata": {
        "id": "oo5LkyV2joK_"
      },
      "source": [
        "2. Change the price time series into the return time series, by performing the difference of logarithm. Perform the ADF test to the new series.  "
      ]
    },
    {
      "cell_type": "code",
      "execution_count": 21,
      "id": "FY_7QFYsp7bM",
      "metadata": {
        "id": "FY_7QFYsp7bM"
      },
      "outputs": [
        {
          "name": "stdout",
          "output_type": "stream",
          "text": [
            "Number of unique stock companies: 505\n",
            "Log Return Series:\n",
            "              date   open   high    low  close    volume Name  log_return\n",
            "1       2013-02-11  14.89  15.01  14.26  14.46   8882000  AAL   -0.019857\n",
            "2       2013-02-12  14.45  14.51  14.10  14.27   8126000  AAL   -0.013227\n",
            "3       2013-02-13  14.30  14.94  14.25  14.66  10259500  AAL    0.026963\n",
            "4       2013-02-14  14.94  14.96  13.16  13.99  31879900  AAL   -0.046780\n",
            "5       2013-02-15  13.93  14.61  13.93  14.50  15628000  AAL    0.035806\n",
            "...            ...    ...    ...    ...    ...       ...  ...         ...\n",
            "619035  2018-02-01  76.84  78.27  76.69  77.82   2982259  ZTS    0.014106\n",
            "619036  2018-02-02  77.53  78.12  76.73  76.78   2595187  ZTS   -0.013454\n",
            "619037  2018-02-05  76.64  76.92  73.18  73.83   2962031  ZTS   -0.039179\n",
            "619038  2018-02-06  72.74  74.56  72.13  73.27   4924323  ZTS   -0.007614\n",
            "619039  2018-02-07  72.70  75.00  72.69  73.86   4534912  ZTS    0.008020\n",
            "\n",
            "[618535 rows x 8 columns]\n",
            "\n",
            " ADF Test Results by stock name of each company:\n"
          ]
        },
        {
          "data": {
            "application/vnd.microsoft.datawrangler.viewer.v0+json": {
              "columns": [
                {
                  "name": "('Name', None)",
                  "rawType": "object",
                  "type": "unknown"
                },
                {
                  "name": "log_return",
                  "rawType": "float64",
                  "type": "float"
                }
              ],
              "ref": "0548b689-01df-426e-8269-3103e2487fd7",
              "rows": [
                [
                  "('A', 'ADF Statistic')",
                  "-36.97889122947573"
                ],
                [
                  "('A', 'p-value')",
                  "0.0"
                ],
                [
                  "('A', '1% Critical')",
                  "-3.4355629707955395"
                ],
                [
                  "('A', '5% Critical')",
                  "-2.863842063387667"
                ],
                [
                  "('A', '10% Critical')",
                  "-2.567995644141416"
                ],
                [
                  "('AAL', 'ADF Statistic')",
                  "-33.43326935920566"
                ],
                [
                  "('AAL', 'p-value')",
                  "0.0"
                ],
                [
                  "('AAL', '1% Critical')",
                  "-3.4355629707955395"
                ],
                [
                  "('AAL', '5% Critical')",
                  "-2.863842063387667"
                ],
                [
                  "('AAL', '10% Critical')",
                  "-2.567995644141416"
                ],
                [
                  "('AAP', 'ADF Statistic')",
                  "-16.48540089063464"
                ],
                [
                  "('AAP', 'p-value')",
                  "2.2173822470488355e-29"
                ],
                [
                  "('AAP', '1% Critical')",
                  "-3.4355796466416777"
                ],
                [
                  "('AAP', '5% Critical')",
                  "-2.863849421064024"
                ],
                [
                  "('AAP', '10% Critical')",
                  "-2.5679995625056926"
                ],
                [
                  "('AAPL', 'ADF Statistic')",
                  "-34.34776189873719"
                ],
                [
                  "('AAPL', 'p-value')",
                  "0.0"
                ],
                [
                  "('AAPL', '1% Critical')",
                  "-3.4355629707955395"
                ],
                [
                  "('AAPL', '5% Critical')",
                  "-2.863842063387667"
                ],
                [
                  "('AAPL', '10% Critical')",
                  "-2.567995644141416"
                ],
                [
                  "('ABBV', 'ADF Statistic')",
                  "-13.974285472704002"
                ],
                [
                  "('ABBV', 'p-value')",
                  "4.2896013416341495e-26"
                ],
                [
                  "('ABBV', '1% Critical')",
                  "-3.4355964295197743"
                ],
                [
                  "('ABBV', '5% Critical')",
                  "-2.863856825923603"
                ],
                [
                  "('ABBV', '10% Critical')",
                  "-2.5680035060041626"
                ],
                [
                  "('ABC', 'ADF Statistic')",
                  "-12.053412200940336"
                ],
                [
                  "('ABC', 'p-value')",
                  "2.5661193136479173e-22"
                ],
                [
                  "('ABC', '1% Critical')",
                  "-3.4355964295197743"
                ],
                [
                  "('ABC', '5% Critical')",
                  "-2.863856825923603"
                ],
                [
                  "('ABC', '10% Critical')",
                  "-2.5680035060041626"
                ],
                [
                  "('ABT', 'ADF Statistic')",
                  "-35.26539364659448"
                ],
                [
                  "('ABT', 'p-value')",
                  "0.0"
                ],
                [
                  "('ABT', '1% Critical')",
                  "-3.4355629707955395"
                ],
                [
                  "('ABT', '5% Critical')",
                  "-2.863842063387667"
                ],
                [
                  "('ABT', '10% Critical')",
                  "-2.567995644141416"
                ],
                [
                  "('ACN', 'ADF Statistic')",
                  "-35.906804613030346"
                ],
                [
                  "('ACN', 'p-value')",
                  "0.0"
                ],
                [
                  "('ACN', '1% Critical')",
                  "-3.4355629707955395"
                ],
                [
                  "('ACN', '5% Critical')",
                  "-2.863842063387667"
                ],
                [
                  "('ACN', '10% Critical')",
                  "-2.567995644141416"
                ],
                [
                  "('ADBE', 'ADF Statistic')",
                  "-17.596001398417823"
                ],
                [
                  "('ADBE', 'p-value')",
                  "3.942613964011606e-30"
                ],
                [
                  "('ADBE', '1% Critical')",
                  "-3.4355796466416777"
                ],
                [
                  "('ADBE', '5% Critical')",
                  "-2.863849421064024"
                ],
                [
                  "('ADBE', '10% Critical')",
                  "-2.5679995625056926"
                ],
                [
                  "('ADI', 'ADF Statistic')",
                  "-36.984732901694336"
                ],
                [
                  "('ADI', 'p-value')",
                  "0.0"
                ],
                [
                  "('ADI', '1% Critical')",
                  "-3.4355629707955395"
                ],
                [
                  "('ADI', '5% Critical')",
                  "-2.863842063387667"
                ],
                [
                  "('ADI', '10% Critical')",
                  "-2.567995644141416"
                ]
              ],
              "shape": {
                "columns": 1,
                "rows": 2525
              }
            },
            "text/plain": [
              "Name               \n",
              "A     ADF Statistic   -36.978891\n",
              "      p-value           0.000000\n",
              "      1% Critical      -3.435563\n",
              "      5% Critical      -2.863842\n",
              "      10% Critical     -2.567996\n",
              "                         ...    \n",
              "ZTS   ADF Statistic   -27.920594\n",
              "      p-value           0.000000\n",
              "      1% Critical      -3.435567\n",
              "      5% Critical      -2.863844\n",
              "      10% Critical     -2.567997\n",
              "Name: log_return, Length: 2525, dtype: float64"
            ]
          },
          "execution_count": 21,
          "metadata": {},
          "output_type": "execute_result"
        }
      ],
      "source": [
        "# Determine how many stock companies there are\n",
        "num_companies = sp500['Name'].nunique()\n",
        "print(f\"Number of unique stock companies: {num_companies}\")\n",
        "\n",
        "\n",
        "# Convert close price to numeric\n",
        "sp500['close'] = pd.to_numeric(sp500['close'])\n",
        "\n",
        "# Calculate log return with transform to maintain index alignment\n",
        "sp500['log_return'] = np.log(sp500['close']) - np.log(sp500.groupby('Name')['close'].transform('shift'))\n",
        "log_return_series = sp500.dropna(subset=['log_return'])\n",
        "print(\"Log Return Series:\")\n",
        "print(log_return_series)\n",
        "\n",
        "# ADF test on log returns on the whole dataset\n",
        "# result = adfuller(log_return_series['log_return'], maxlag=1) \n",
        "# adf_statistic = result[0]\n",
        "# p_value = result[1]\n",
        "# critical_values = result[4]\n",
        "\n",
        "# print('\\nADF Test Results (Log Returns):')\n",
        "# print(f'ADF Statistic: {adf_statistic}')\n",
        "# print(f'p-value: {p_value}')\n",
        "# print('Critical Values:')\n",
        "# for key, value in critical_values.items():\n",
        "#     print(f'   {key}: {value}')\n",
        "\n",
        "# Group ADF test by stock name of each company with log_return\n",
        "def adf_test(x):\n",
        "    result = adfuller(x.dropna())\n",
        "    return pd.Series({\n",
        "        'ADF Statistic': result[0],\n",
        "        'p-value': result[1],\n",
        "        '1% Critical': result[4]['1%'],\n",
        "        '5% Critical': result[4]['5%'],\n",
        "        '10% Critical': result[4]['10%']\n",
        "    })\n",
        "\n",
        "print(\"\\n ADF Test Results by stock name of each company:\")\n",
        "adf_results = log_return_series.groupby('Name')['log_return'].apply(adf_test)\n",
        "adf_results"
      ]
    },
    {
      "cell_type": "markdown",
      "id": "cad92a29",
      "metadata": {
        "id": "cad92a29"
      },
      "source": [
        "3. Perform EDA\n",
        "\n"
      ]
    },
    {
      "cell_type": "code",
      "execution_count": 22,
      "id": "-d7LDG-Zp8XV",
      "metadata": {
        "id": "-d7LDG-Zp8XV"
      },
      "outputs": [
        {
          "data": {
            "image/png": "[encoded data removed]",
            "text/plain": [
              "<Figure size 1400x600 with 2 Axes>"
            ]
          },
          "metadata": {},
          "output_type": "display_data"
        },
        {
          "data": {
            "image/png": "[encoded data removed]",
            "text/plain": [
              "<Figure size 1400x600 with 4 Axes>"
            ]
          },
          "metadata": {},
          "output_type": "display_data"
        }
      ],
      "source": [
        "# Since I choose to do ADF test on each company's stock,\n",
        "# I'll simply just choose AAPL for further EDA analysis as an example.\n",
        "import seaborn as sns\n",
        "from statsmodels.graphics.tsaplots import plot_acf, plot_pacf\n",
        "from scipy import stats\n",
        "\n",
        "# Prepare AAPL data\n",
        "aapl = sp500[sp500['Name'] == 'AAPL'].copy()\n",
        "aapl['date'] = pd.to_datetime(aapl['date'])\n",
        "aapl.set_index('date', inplace=True)\n",
        "aapl_log = aapl[['log_return']].dropna()\n",
        "\n",
        "\n",
        "# Trend comparison\n",
        "plt.figure(figsize=(14, 6))\n",
        "plt.subplot(1, 2, 1)\n",
        "plt.plot(aapl['close'])\n",
        "plt.title('AAPL Raw Close Price Trend')\n",
        "plt.xlabel('Date')\n",
        "plt.ylabel('Close Price')\n",
        "plt.grid()\n",
        "\n",
        "plt.subplot(1, 2, 2)\n",
        "plt.plot(aapl_log['log_return'])\n",
        "plt.title('AAPL Log Return Trend')\n",
        "plt.xlabel('Date')\n",
        "plt.ylabel('Log Return')\n",
        "plt.grid()\n",
        "plt.tight_layout()\n",
        "plt.show()\n",
        "\n",
        "\n",
        "\n",
        "# Distribution comparison\n",
        "plt.figure(figsize=(14, 6))\n",
        "plt.subplot(2, 2, 1)\n",
        "plt.hist(aapl['close'], bins=30, edgecolor='black')\n",
        "plt.title('AAPL Raw Close Price Distribution')\n",
        "plt.xlabel('Close Price')\n",
        "\n",
        "plt.subplot(2, 2, 2)\n",
        "plt.hist(aapl_log['log_return'], bins=30, edgecolor='black')\n",
        "plt.title('AAPL Log Return Distribution')\n",
        "plt.xlabel('Log Return')\n",
        "\n",
        "\n",
        "# Q-Q Plot comparison\n",
        "plt.subplot(2, 2, 3)\n",
        "stats.probplot(aapl['close'], plot=plt)\n",
        "plt.title('AAPL Raw Close Price Q-Q Plot')\n",
        "\n",
        "plt.subplot(2, 2, 4)\n",
        "stats.probplot(aapl_log['log_return'], plot=plt)\n",
        "plt.title('AAPL Log Return Q-Q Plot')\n",
        "plt.tight_layout()\n",
        "plt.show()\n"
      ]
    },
    {
      "cell_type": "markdown",
      "id": "1e0794c6",
      "metadata": {},
      "source": [
        "* The log_return is closer to the normal distribution than the raw close_price."
      ]
    },
    {
      "cell_type": "code",
      "execution_count": 23,
      "id": "47f17ef7",
      "metadata": {},
      "outputs": [
        {
          "data": {
            "text/plain": [
              "<Figure size 1400x600 with 0 Axes>"
            ]
          },
          "metadata": {},
          "output_type": "display_data"
        },
        {
          "data": {
            "image/png": "[encoded data removed]",
            "text/plain": [
              "<Figure size 640x480 with 1 Axes>"
            ]
          },
          "metadata": {},
          "output_type": "display_data"
        },
        {
          "data": {
            "text/plain": [
              "<Figure size 1400x600 with 0 Axes>"
            ]
          },
          "metadata": {},
          "output_type": "display_data"
        },
        {
          "data": {
            "image/png": "[encoded data removed]",
            "text/plain": [
              "<Figure size 640x480 with 1 Axes>"
            ]
          },
          "metadata": {},
          "output_type": "display_data"
        },
        {
          "data": {
            "text/plain": [
              "<Figure size 1400x600 with 0 Axes>"
            ]
          },
          "metadata": {},
          "output_type": "display_data"
        },
        {
          "data": {
            "image/png": "[encoded data removed]",
            "text/plain": [
              "<Figure size 640x480 with 1 Axes>"
            ]
          },
          "metadata": {},
          "output_type": "display_data"
        },
        {
          "data": {
            "text/plain": [
              "<Figure size 1400x600 with 0 Axes>"
            ]
          },
          "metadata": {},
          "output_type": "display_data"
        },
        {
          "data": {
            "image/png": "[encoded data removed]",
            "text/plain": [
              "<Figure size 640x480 with 1 Axes>"
            ]
          },
          "metadata": {},
          "output_type": "display_data"
        }
      ],
      "source": [
        "# ACF plots Comparison\n",
        "plt.figure(figsize=(14, 6))\n",
        "plot_acf(aapl['close'].dropna(), lags=30, title='AAPL Raw Close Price ACF')\n",
        "plt.figure(figsize=(14, 6))\n",
        "plot_acf(aapl_log, lags=30, title='AAPL Log Return ACF')\n",
        "plt.show()\n",
        "\n",
        "\n",
        "\n",
        "# PACF plots Comparison\n",
        "plt.figure(figsize=(14, 6))\n",
        "plot_pacf(aapl['close'].dropna(), lags=30, title='AAPL Raw Close Price PACF')\n",
        "plt.figure(figsize=(14, 6))\n",
        "plot_pacf(aapl_log, lags=30, title='AAPL Log Return PACF')\n",
        "plt.show()\n",
        "\n",
        "\n"
      ]
    },
    {
      "cell_type": "code",
      "execution_count": 24,
      "id": "3d6725be",
      "metadata": {},
      "outputs": [
        {
          "data": {
            "image/png": "[encoded data removed]",
            "text/plain": [
              "<Figure size 1400x600 with 2 Axes>"
            ]
          },
          "metadata": {},
          "output_type": "display_data"
        },
        {
          "name": "stdout",
          "output_type": "stream",
          "text": [
            "\n",
            " Detected Outliers on AAPL raw close_price:\n",
            "\n",
            " Detected Outliers on AAPL log_return:\n"
          ]
        },
        {
          "data": {
            "application/vnd.microsoft.datawrangler.viewer.v0+json": {
              "columns": [
                {
                  "name": "date",
                  "rawType": "datetime64[ns]",
                  "type": "datetime"
                },
                {
                  "name": "log_return",
                  "rawType": "float64",
                  "type": "float"
                }
              ],
              "ref": "c7513238-5b3c-437d-a9e1-14bf007f8690",
              "rows": [
                [
                  "2013-04-17 00:00:00",
                  "-0.0565629308973854"
                ],
                [
                  "2013-09-11 00:00:00",
                  "-0.05598268131358175"
                ],
                [
                  "2014-01-28 00:00:00",
                  "-0.08330249816183599"
                ],
                [
                  "2014-04-24 00:00:00",
                  "0.07879435894473641"
                ],
                [
                  "2015-01-28 00:00:00",
                  "0.05499269202493906"
                ],
                [
                  "2015-08-11 00:00:00",
                  "-0.053440955671450574"
                ],
                [
                  "2015-08-21 00:00:00",
                  "-0.0631132907748766"
                ],
                [
                  "2015-08-26 00:00:00",
                  "0.05577043649998803"
                ],
                [
                  "2016-01-22 00:00:00",
                  "0.05180199156279297"
                ],
                [
                  "2016-01-27 00:00:00",
                  "-0.06796472591379565"
                ],
                [
                  "2016-04-27 00:00:00",
                  "-0.06462157841199812"
                ],
                [
                  "2016-07-27 00:00:00",
                  "0.06294031699728464"
                ],
                [
                  "2017-02-01 00:00:00",
                  "0.05919360737123558"
                ],
                [
                  "2017-08-01 00:00:00",
                  "0.06418967390600283"
                ]
              ],
              "shape": {
                "columns": 1,
                "rows": 14
              }
            },
            "text/html": [
              "<div>\n",
              "<style scoped>\n",
              "    .dataframe tbody tr th:only-of-type {\n",
              "        vertical-align: middle;\n",
              "    }\n",
              "\n",
              "    .dataframe tbody tr th {\n",
              "        vertical-align: top;\n",
              "    }\n",
              "\n",
              "    .dataframe thead th {\n",
              "        text-align: right;\n",
              "    }\n",
              "</style>\n",
              "<table border=\"1\" class=\"dataframe\">\n",
              "  <thead>\n",
              "    <tr style=\"text-align: right;\">\n",
              "      <th></th>\n",
              "      <th>log_return</th>\n",
              "    </tr>\n",
              "    <tr>\n",
              "      <th>date</th>\n",
              "      <th></th>\n",
              "    </tr>\n",
              "  </thead>\n",
              "  <tbody>\n",
              "    <tr>\n",
              "      <th>2013-04-17</th>\n",
              "      <td>-0.056563</td>\n",
              "    </tr>\n",
              "    <tr>\n",
              "      <th>2013-09-11</th>\n",
              "      <td>-0.055983</td>\n",
              "    </tr>\n",
              "    <tr>\n",
              "      <th>2014-01-28</th>\n",
              "      <td>-0.083302</td>\n",
              "    </tr>\n",
              "    <tr>\n",
              "      <th>2014-04-24</th>\n",
              "      <td>0.078794</td>\n",
              "    </tr>\n",
              "    <tr>\n",
              "      <th>2015-01-28</th>\n",
              "      <td>0.054993</td>\n",
              "    </tr>\n",
              "    <tr>\n",
              "      <th>2015-08-11</th>\n",
              "      <td>-0.053441</td>\n",
              "    </tr>\n",
              "    <tr>\n",
              "      <th>2015-08-21</th>\n",
              "      <td>-0.063113</td>\n",
              "    </tr>\n",
              "    <tr>\n",
              "      <th>2015-08-26</th>\n",
              "      <td>0.055770</td>\n",
              "    </tr>\n",
              "    <tr>\n",
              "      <th>2016-01-22</th>\n",
              "      <td>0.051802</td>\n",
              "    </tr>\n",
              "    <tr>\n",
              "      <th>2016-01-27</th>\n",
              "      <td>-0.067965</td>\n",
              "    </tr>\n",
              "    <tr>\n",
              "      <th>2016-04-27</th>\n",
              "      <td>-0.064622</td>\n",
              "    </tr>\n",
              "    <tr>\n",
              "      <th>2016-07-27</th>\n",
              "      <td>0.062940</td>\n",
              "    </tr>\n",
              "    <tr>\n",
              "      <th>2017-02-01</th>\n",
              "      <td>0.059194</td>\n",
              "    </tr>\n",
              "    <tr>\n",
              "      <th>2017-08-01</th>\n",
              "      <td>0.064190</td>\n",
              "    </tr>\n",
              "  </tbody>\n",
              "</table>\n",
              "</div>"
            ],
            "text/plain": [
              "            log_return\n",
              "date                  \n",
              "2013-04-17   -0.056563\n",
              "2013-09-11   -0.055983\n",
              "2014-01-28   -0.083302\n",
              "2014-04-24    0.078794\n",
              "2015-01-28    0.054993\n",
              "2015-08-11   -0.053441\n",
              "2015-08-21   -0.063113\n",
              "2015-08-26    0.055770\n",
              "2016-01-22    0.051802\n",
              "2016-01-27   -0.067965\n",
              "2016-04-27   -0.064622\n",
              "2016-07-27    0.062940\n",
              "2017-02-01    0.059194\n",
              "2017-08-01    0.064190"
            ]
          },
          "execution_count": 24,
          "metadata": {},
          "output_type": "execute_result"
        }
      ],
      "source": [
        "# Plots of outliers\n",
        "plt.figure(figsize=(14, 6))\n",
        "plt.subplot(1, 2, 1)\n",
        "sns.boxplot(data=aapl[['close']])\n",
        "plt.title('AAPL Raw Close Price Distribution')\n",
        "plt.xticks(rotation=45)\n",
        "\n",
        "plt.subplot(1, 2, 2)\n",
        "sns.boxplot(data=aapl_log[['log_return']])\n",
        "plt.title('AAPL Log Return Distribution')\n",
        "plt.xticks(rotation=45)\n",
        "plt.tight_layout()\n",
        "plt.show()\n",
        "\n",
        "\n",
        "\n",
        "\n",
        "# Outlier detection print as DataFrame\n",
        "z_scores = np.abs(stats.zscore(aapl[['log_return']]))\n",
        "outliers_raw = aapl[(z_scores > 3.5).any(axis=1)]\n",
        "print(\"\\n Detected Outliers on AAPL raw close_price:\")\n",
        "outliers_raw\n",
        "\n",
        "z_scores = np.abs(stats.zscore(aapl_log[['log_return']]))\n",
        "outliers = aapl_log[(z_scores > 3.5).any(axis=1)]\n",
        "print(\"\\n Detected Outliers on AAPL log_return:\")\n",
        "outliers"
      ]
    },
    {
      "cell_type": "code",
      "execution_count": 25,
      "id": "164eed36",
      "metadata": {},
      "outputs": [
        {
          "data": {
            "image/png": "[encoded data removed]",
            "text/plain": [
              "<Figure size 1800x600 with 4 Axes>"
            ]
          },
          "metadata": {},
          "output_type": "display_data"
        }
      ],
      "source": [
        "# Feature correlation comparison heat map\n",
        "plt.figure(figsize=(18, 6))\n",
        "plt.subplot(1, 2, 1)\n",
        "corr_matrix_raw = aapl[['close', 'volume', 'open', 'high', 'low']].corr()\n",
        "sns.heatmap(corr_matrix_raw, annot=True, cmap='coolwarm', center=0, vmin=-1, vmax=1)\n",
        "plt.title('Raw Close Price Feature Correlation')\n",
        "\n",
        "plt.subplot(1, 2, 2)\n",
        "corr_matrix_log = aapl[['log_return', 'volume', 'open', 'high', 'low']].corr()\n",
        "sns.heatmap(corr_matrix_log, annot=True, cmap='coolwarm', center=0, vmin=-1, vmax=1)\n",
        "plt.title('Log Return Feature Correlation')\n",
        "plt.tight_layout()\n",
        "plt.show()"
      ]
    },
    {
      "cell_type": "markdown",
      "id": "99f55fb4",
      "metadata": {},
      "source": [
        "* The raw price heat map shows that the price indicators are highly correlated and have obvious time series dependence.\n",
        "* However the second map shows that the correlations among various variables are significantly reduced, making it more suitable for statistical modeling and predictive analysis. \n",
        "* This comparison verifies that logarithmic transformation can effectively eliminate the dependence problem of financial time series."
      ]
    },
    {
      "cell_type": "markdown",
      "id": "33fd7e98",
      "metadata": {
        "id": "33fd7e98"
      },
      "source": [
        "4.  Associate to each day's closed price the following\n",
        "\n",
        "\n",
        "*   Moving average of 5 days, 10 days, 30 days, 60 days.\n",
        "*   Relative strength index\n",
        "*   On-balance volume\n",
        "\n",
        "\n",
        "\n"
      ]
    },
    {
      "cell_type": "code",
      "execution_count": 26,
      "id": "6c9NdQDhp_Ms",
      "metadata": {
        "id": "6c9NdQDhp_Ms"
      },
      "outputs": [
        {
          "data": {
            "application/vnd.microsoft.datawrangler.viewer.v0+json": {
              "columns": [
                {
                  "name": "index",
                  "rawType": "int64",
                  "type": "integer"
                },
                {
                  "name": "date",
                  "rawType": "object",
                  "type": "string"
                },
                {
                  "name": "open",
                  "rawType": "float64",
                  "type": "float"
                },
                {
                  "name": "high",
                  "rawType": "float64",
                  "type": "float"
                },
                {
                  "name": "low",
                  "rawType": "float64",
                  "type": "float"
                },
                {
                  "name": "close",
                  "rawType": "float64",
                  "type": "float"
                },
                {
                  "name": "volume",
                  "rawType": "int64",
                  "type": "integer"
                },
                {
                  "name": "Name",
                  "rawType": "object",
                  "type": "string"
                },
                {
                  "name": "log_return",
                  "rawType": "float64",
                  "type": "float"
                },
                {
                  "name": "MA_5",
                  "rawType": "float64",
                  "type": "float"
                },
                {
                  "name": "MA_10",
                  "rawType": "float64",
                  "type": "float"
                },
                {
                  "name": "MA_30",
                  "rawType": "float64",
                  "type": "float"
                },
                {
                  "name": "MA_60",
                  "rawType": "float64",
                  "type": "float"
                },
                {
                  "name": "RSI",
                  "rawType": "float64",
                  "type": "float"
                },
                {
                  "name": "OBV",
                  "rawType": "float64",
                  "type": "float"
                }
              ],
              "ref": "a33604aa-8866-481b-8ad1-57b8404c1bce",
              "rows": [
                [
                  "0",
                  "2013-02-08",
                  "15.07",
                  "15.12",
                  "14.63",
                  "14.75",
                  "8407500",
                  "AAL",
                  null,
                  null,
                  null,
                  null,
                  null,
                  null,
                  "0.0"
                ],
                [
                  "1",
                  "2013-02-11",
                  "14.89",
                  "15.01",
                  "14.26",
                  "14.46",
                  "8882000",
                  "AAL",
                  "-0.019856866055210087",
                  null,
                  null,
                  null,
                  null,
                  null,
                  "-8882000.0"
                ],
                [
                  "2",
                  "2013-02-12",
                  "14.45",
                  "14.51",
                  "14.1",
                  "14.27",
                  "8126000",
                  "AAL",
                  "-0.013226785241873706",
                  null,
                  null,
                  null,
                  null,
                  null,
                  "-17008000.0"
                ],
                [
                  "3",
                  "2013-02-13",
                  "14.3",
                  "14.94",
                  "14.25",
                  "14.66",
                  "10259500",
                  "AAL",
                  "0.026963264969760203",
                  null,
                  null,
                  null,
                  null,
                  null,
                  "-6748500.0"
                ],
                [
                  "4",
                  "2013-02-14",
                  "14.94",
                  "14.96",
                  "13.16",
                  "13.99",
                  "31879900",
                  "AAL",
                  "-0.046779907781115515",
                  "14.425999999999998",
                  null,
                  null,
                  null,
                  null,
                  "-38628400.0"
                ],
                [
                  "5",
                  "2013-02-15",
                  "13.93",
                  "14.61",
                  "13.93",
                  "14.5",
                  "15628000",
                  "AAL",
                  "0.03580586074913894",
                  "14.376",
                  null,
                  null,
                  null,
                  null,
                  "-23000400.0"
                ],
                [
                  "6",
                  "2013-02-19",
                  "14.33",
                  "14.56",
                  "14.08",
                  "14.26",
                  "11354400",
                  "AAL",
                  "-0.01669023444037876",
                  "14.336000000000002",
                  null,
                  null,
                  null,
                  null,
                  "-34354800.0"
                ],
                [
                  "7",
                  "2013-02-20",
                  "14.17",
                  "14.26",
                  "13.15",
                  "13.33",
                  "14725200",
                  "AAL",
                  "-0.06744128079553269",
                  "14.148000000000001",
                  null,
                  null,
                  null,
                  null,
                  "-49080000.0"
                ],
                [
                  "8",
                  "2013-02-21",
                  "13.62",
                  "13.95",
                  "12.9",
                  "13.37",
                  "11922100",
                  "AAL",
                  "0.0029962569232342418",
                  "13.89",
                  null,
                  null,
                  null,
                  null,
                  "-37157900.0"
                ],
                [
                  "9",
                  "2013-02-22",
                  "13.57",
                  "13.6",
                  "13.21",
                  "13.57",
                  "6071400",
                  "AAL",
                  "0.014848082732926038",
                  "13.806000000000001",
                  "14.116",
                  null,
                  null,
                  null,
                  "-31086500.0"
                ],
                [
                  "10",
                  "2013-02-25",
                  "13.6",
                  "13.76",
                  "13.0",
                  "13.02",
                  "7186400",
                  "AAL",
                  "-0.04137483706635425",
                  "13.51",
                  "13.943000000000001",
                  null,
                  null,
                  null,
                  "-38272900.0"
                ],
                [
                  "11",
                  "2013-02-26",
                  "13.14",
                  "13.42",
                  "12.7",
                  "13.26",
                  "9419000",
                  "AAL",
                  "0.018265347977293178",
                  "13.309999999999999",
                  "13.822999999999999",
                  null,
                  null,
                  null,
                  "-28853900.0"
                ],
                [
                  "12",
                  "2013-02-27",
                  "13.28",
                  "13.62",
                  "13.18",
                  "13.41",
                  "7390500",
                  "AAL",
                  "0.011248712535870453",
                  "13.325999999999999",
                  "13.737",
                  null,
                  null,
                  null,
                  "-21463400.0"
                ],
                [
                  "13",
                  "2013-02-28",
                  "13.49",
                  "13.63",
                  "13.39",
                  "13.43",
                  "6143600",
                  "AAL",
                  "0.001490313241559349",
                  "13.338",
                  "13.613999999999999",
                  null,
                  null,
                  "35.06787330316743",
                  "-15319800.0"
                ],
                [
                  "14",
                  "2013-03-01",
                  "13.37",
                  "13.95",
                  "13.32",
                  "13.61",
                  "7376800",
                  "AAL",
                  "0.0133138061282283",
                  "13.346",
                  "13.575999999999999",
                  null,
                  null,
                  "37.608695652173914",
                  "-7943000.0"
                ],
                [
                  "15",
                  "2013-03-04",
                  "13.5",
                  "14.07",
                  "13.47",
                  "13.9",
                  "8174800",
                  "AAL",
                  "0.02108402347327143",
                  "13.522",
                  "13.516",
                  null,
                  null,
                  "43.913043478260875",
                  "231800.0"
                ],
                [
                  "16",
                  "2013-03-05",
                  "14.01",
                  "14.05",
                  "13.71",
                  "14.05",
                  "7676100",
                  "AAL",
                  "0.01073355564310896",
                  "13.680000000000001",
                  "13.495",
                  null,
                  null,
                  "47.58771929824563",
                  "7907900.0"
                ],
                [
                  "17",
                  "2013-03-06",
                  "14.52",
                  "14.68",
                  "14.25",
                  "14.57",
                  "13243200",
                  "AAL",
                  "0.03634222442735835",
                  "13.912",
                  "13.619",
                  null,
                  null,
                  "49.04051172707889",
                  "21151100.0"
                ],
                [
                  "18",
                  "2013-03-07",
                  "14.7",
                  "14.93",
                  "14.5",
                  "14.82",
                  "9125300",
                  "AAL",
                  "0.0170129996608277",
                  "14.190000000000001",
                  "13.764",
                  null,
                  null,
                  "59.71896955503512",
                  "30276400.0"
                ],
                [
                  "19",
                  "2013-03-08",
                  "14.99",
                  "15.2",
                  "14.84",
                  "14.92",
                  "10593700",
                  "AAL",
                  "0.006724974907673875",
                  "14.452000000000002",
                  "13.899000000000001",
                  null,
                  null,
                  "55.44041450777201",
                  "40870100.0"
                ],
                [
                  "20",
                  "2013-03-11",
                  "14.85",
                  "15.15",
                  "14.71",
                  "15.13",
                  "6961800",
                  "AAL",
                  "0.01397693302464953",
                  "14.698000000000002",
                  "14.11",
                  null,
                  null,
                  "61.35770234986946",
                  "47831900.0"
                ],
                [
                  "21",
                  "2013-03-12",
                  "15.14",
                  "15.6",
                  "14.95",
                  "15.5",
                  "8999100",
                  "AAL",
                  "0.024160496124936426",
                  "14.988",
                  "14.334",
                  null,
                  null,
                  "83.18042813455656",
                  "56831000.0"
                ],
                [
                  "22",
                  "2013-03-13",
                  "15.54",
                  "16.2",
                  "15.48",
                  "15.91",
                  "11380000",
                  "AAL",
                  "0.0261078184244945",
                  "15.256",
                  "14.584",
                  null,
                  null,
                  "84.89010989010988",
                  "68211000.0"
                ],
                [
                  "23",
                  "2013-03-14",
                  "15.98",
                  "16.36",
                  "15.93",
                  "16.25",
                  "8383300",
                  "AAL",
                  "0.021145066426051073",
                  "15.542000000000002",
                  "14.866",
                  null,
                  null,
                  "85.44973544973544",
                  "76594300.0"
                ],
                [
                  "24",
                  "2013-03-15",
                  "16.45",
                  "16.54",
                  "15.88",
                  "15.98",
                  "17667700",
                  "AAL",
                  "-0.016754968437617812",
                  "15.754000000000001",
                  "15.103000000000003",
                  null,
                  null,
                  "92.28571428571429",
                  "58926600.0"
                ],
                [
                  "25",
                  "2013-03-18",
                  "15.8",
                  "16.33",
                  "15.71",
                  "16.29",
                  "6514100",
                  "AAL",
                  "0.0192134822758252",
                  "15.986",
                  "15.342000000000002",
                  null,
                  null,
                  "92.43697478991598",
                  "65440700.0"
                ],
                [
                  "26",
                  "2013-03-19",
                  "16.48",
                  "16.85",
                  "16.41",
                  "16.78",
                  "11805300",
                  "AAL",
                  "0.02963627842510652",
                  "16.242",
                  "15.615",
                  null,
                  null,
                  "93.09462915601024",
                  "77246000.0"
                ],
                [
                  "27",
                  "2013-03-20",
                  "17.13",
                  "17.33",
                  "16.87",
                  "17.23",
                  "10819800",
                  "AAL",
                  "0.026464349500777917",
                  "16.506",
                  "15.881",
                  null,
                  null,
                  "93.77880184331798",
                  "88065800.0"
                ],
                [
                  "28",
                  "2013-03-21",
                  "17.21",
                  "17.43",
                  "16.87",
                  "17.0",
                  "10740800",
                  "AAL",
                  "-0.01343870648362211",
                  "16.656",
                  "16.099",
                  null,
                  null,
                  "88.61047835990888",
                  "77325000.0"
                ],
                [
                  "29",
                  "2013-03-22",
                  "17.1",
                  "17.29",
                  "16.77",
                  "16.86",
                  "8545200",
                  "AAL",
                  "-0.008269391482506716",
                  "16.832",
                  "16.293",
                  "14.769333333333332",
                  null,
                  "84.90566037735847",
                  "68779800.0"
                ],
                [
                  "30",
                  "2013-03-25",
                  "16.92",
                  "17.0",
                  "16.35",
                  "16.6",
                  "8400000",
                  "AAL",
                  "-0.01554125721121169",
                  "16.894000000000002",
                  "16.44",
                  "14.831",
                  null,
                  "79.31034482758623",
                  "60379800.0"
                ],
                [
                  "31",
                  "2013-03-26",
                  "16.67",
                  "16.84",
                  "16.5",
                  "16.51",
                  "6898500",
                  "AAL",
                  "-0.005436437430461183",
                  "16.839999999999996",
                  "16.541",
                  "14.899333333333335",
                  null,
                  "74.7448979591837",
                  "53481300.0"
                ],
                [
                  "32",
                  "2013-03-27",
                  "16.48",
                  "16.77",
                  "16.33",
                  "16.65",
                  "5537100",
                  "AAL",
                  "0.008443958494416037",
                  "16.724",
                  "16.615000000000002",
                  "14.978666666666667",
                  null,
                  "74.01574803149607",
                  "59018400.0"
                ],
                [
                  "33",
                  "2013-03-28",
                  "17.0",
                  "17.09",
                  "16.82",
                  "16.97",
                  "8324100",
                  "AAL",
                  "0.0190368628196822",
                  "16.718",
                  "16.687",
                  "15.055666666666667",
                  null,
                  "75.43424317617867",
                  "67342500.0"
                ],
                [
                  "34",
                  "2013-04-01",
                  "17.02",
                  "17.13",
                  "16.54",
                  "16.67",
                  "5222300",
                  "AAL",
                  "-0.017836382483432",
                  "16.68",
                  "16.756",
                  "15.145000000000001",
                  null,
                  "68.68932038834956",
                  "62120200.0"
                ],
                [
                  "35",
                  "2013-04-02",
                  "16.48",
                  "16.5",
                  "15.71",
                  "15.74",
                  "14595600",
                  "AAL",
                  "-0.057405453773445636",
                  "16.508",
                  "16.701",
                  "15.186333333333334",
                  null,
                  "52.56410256410257",
                  "47524600.0"
                ],
                [
                  "36",
                  "2013-04-03",
                  "15.82",
                  "15.92",
                  "15.13",
                  "15.53",
                  "14658300",
                  "AAL",
                  "-0.013431605828661652",
                  "16.312",
                  "16.576",
                  "15.228666666666667",
                  null,
                  "45.75892857142856",
                  "32866300.0"
                ],
                [
                  "37",
                  "2013-04-04",
                  "15.12",
                  "15.71",
                  "15.12",
                  "15.69",
                  "5520300",
                  "AAL",
                  "0.010249929584345452",
                  "16.119999999999997",
                  "16.422",
                  "15.307333333333332",
                  null,
                  "43.488372093023244",
                  "38386600.0"
                ],
                [
                  "38",
                  "2013-04-05",
                  "15.17",
                  "15.79",
                  "15.03",
                  "15.72",
                  "5252300",
                  "AAL",
                  "0.0019102202561196435",
                  "15.87",
                  "16.294",
                  "15.385666666666669",
                  null,
                  "46.79802955665025",
                  "43638900.0"
                ],
                [
                  "39",
                  "2013-04-08",
                  "15.82",
                  "15.97",
                  "15.53",
                  "15.84",
                  "3780700",
                  "AAL",
                  "0.0076045993852189575",
                  "15.703999999999999",
                  "16.192",
                  "15.461333333333332",
                  null,
                  "44.186046511627914",
                  "47419600.0"
                ],
                [
                  "40",
                  "2013-04-09",
                  "16.07",
                  "16.1",
                  "15.67",
                  "15.7",
                  "4420200",
                  "AAL",
                  "-0.008877674032017335",
                  "15.695999999999998",
                  "16.101999999999997",
                  "15.550666666666666",
                  null,
                  "34.65909090909088",
                  "42999400.0"
                ],
                [
                  "41",
                  "2013-04-10",
                  "15.74",
                  "15.98",
                  "15.7",
                  "15.78",
                  "3650600",
                  "AAL",
                  "0.005082603063466085",
                  "15.745999999999999",
                  "16.029",
                  "15.634666666666668",
                  null,
                  "26.984126984126945",
                  "46650000.0"
                ],
                [
                  "42",
                  "2013-04-11",
                  "15.77",
                  "16.38",
                  "15.75",
                  "16.19",
                  "5062200",
                  "AAL",
                  "0.025650452271815727",
                  "15.845999999999998",
                  "15.982999999999999",
                  "15.727333333333332",
                  null,
                  "37.83783783783786",
                  "51712200.0"
                ],
                [
                  "43",
                  "2013-04-12",
                  "16.11",
                  "16.39",
                  "15.95",
                  "16.14",
                  "3751800",
                  "AAL",
                  "-0.0030931048477413903",
                  "15.930000000000001",
                  "15.9",
                  "15.817666666666668",
                  null,
                  "38.8888888888889",
                  "47960400.0"
                ],
                [
                  "44",
                  "2013-04-15",
                  "16.2",
                  "16.39",
                  "15.47",
                  "15.59",
                  "6243400",
                  "AAL",
                  "-0.034670979772117416",
                  "15.879999999999999",
                  "15.791999999999998",
                  "15.883666666666667",
                  null,
                  "35.6940509915014",
                  "41717000.0"
                ],
                [
                  "45",
                  "2013-04-16",
                  "15.96",
                  "16.74",
                  "15.81",
                  "16.37",
                  "10458200",
                  "AAL",
                  "0.048820708313358274",
                  "16.014",
                  "15.855",
                  "15.966",
                  null,
                  "48.34123222748814",
                  "52175200.0"
                ],
                [
                  "46",
                  "2013-04-17",
                  "16.17",
                  "16.55",
                  "15.9",
                  "16.52",
                  "6581900",
                  "AAL",
                  "0.009121376709788631",
                  "16.162",
                  "15.953999999999999",
                  "16.048333333333336",
                  null,
                  "48.46335697399528",
                  "58757100.0"
                ],
                [
                  "47",
                  "2013-04-18",
                  "16.54",
                  "16.54",
                  "15.95",
                  "16.1",
                  "7633300",
                  "AAL",
                  "-0.025752496102414923",
                  "16.144",
                  "15.995000000000001",
                  "16.09933333333333",
                  null,
                  "39.95381062355662",
                  "51123800.0"
                ],
                [
                  "48",
                  "2013-04-19",
                  "16.1",
                  "16.24",
                  "15.85",
                  "16.02",
                  "5762600",
                  "AAL",
                  "-0.004981330350203983",
                  "16.119999999999997",
                  "16.025",
                  "16.139333333333333",
                  null,
                  "42.09245742092456",
                  "45361200.0"
                ],
                [
                  "49",
                  "2013-04-22",
                  "15.99",
                  "16.0",
                  "15.5",
                  "15.52",
                  "9227100",
                  "AAL",
                  "-0.03170842688514064",
                  "16.106",
                  "15.993",
                  "16.159333333333333",
                  null,
                  "47.01086956521739",
                  "36134100.0"
                ]
              ],
              "shape": {
                "columns": 14,
                "rows": 619040
              }
            },
            "text/html": [
              "<div>\n",
              "<style scoped>\n",
              "    .dataframe tbody tr th:only-of-type {\n",
              "        vertical-align: middle;\n",
              "    }\n",
              "\n",
              "    .dataframe tbody tr th {\n",
              "        vertical-align: top;\n",
              "    }\n",
              "\n",
              "    .dataframe thead th {\n",
              "        text-align: right;\n",
              "    }\n",
              "</style>\n",
              "<table border=\"1\" class=\"dataframe\">\n",
              "  <thead>\n",
              "    <tr style=\"text-align: right;\">\n",
              "      <th></th>\n",
              "      <th>date</th>\n",
              "      <th>open</th>\n",
              "      <th>high</th>\n",
              "      <th>low</th>\n",
              "      <th>close</th>\n",
              "      <th>volume</th>\n",
              "      <th>Name</th>\n",
              "      <th>log_return</th>\n",
              "      <th>MA_5</th>\n",
              "      <th>MA_10</th>\n",
              "      <th>MA_30</th>\n",
              "      <th>MA_60</th>\n",
              "      <th>RSI</th>\n",
              "      <th>OBV</th>\n",
              "    </tr>\n",
              "  </thead>\n",
              "  <tbody>\n",
              "    <tr>\n",
              "      <th>0</th>\n",
              "      <td>2013-02-08</td>\n",
              "      <td>15.07</td>\n",
              "      <td>15.12</td>\n",
              "      <td>14.63</td>\n",
              "      <td>14.75</td>\n",
              "      <td>8407500</td>\n",
              "      <td>AAL</td>\n",
              "      <td>NaN</td>\n",
              "      <td>NaN</td>\n",
              "      <td>NaN</td>\n",
              "      <td>NaN</td>\n",
              "      <td>NaN</td>\n",
              "      <td>NaN</td>\n",
              "      <td>0.0</td>\n",
              "    </tr>\n",
              "    <tr>\n",
              "      <th>1</th>\n",
              "      <td>2013-02-11</td>\n",
              "      <td>14.89</td>\n",
              "      <td>15.01</td>\n",
              "      <td>14.26</td>\n",
              "      <td>14.46</td>\n",
              "      <td>8882000</td>\n",
              "      <td>AAL</td>\n",
              "      <td>-0.019857</td>\n",
              "      <td>NaN</td>\n",
              "      <td>NaN</td>\n",
              "      <td>NaN</td>\n",
              "      <td>NaN</td>\n",
              "      <td>NaN</td>\n",
              "      <td>-8882000.0</td>\n",
              "    </tr>\n",
              "    <tr>\n",
              "      <th>2</th>\n",
              "      <td>2013-02-12</td>\n",
              "      <td>14.45</td>\n",
              "      <td>14.51</td>\n",
              "      <td>14.10</td>\n",
              "      <td>14.27</td>\n",
              "      <td>8126000</td>\n",
              "      <td>AAL</td>\n",
              "      <td>-0.013227</td>\n",
              "      <td>NaN</td>\n",
              "      <td>NaN</td>\n",
              "      <td>NaN</td>\n",
              "      <td>NaN</td>\n",
              "      <td>NaN</td>\n",
              "      <td>-17008000.0</td>\n",
              "    </tr>\n",
              "    <tr>\n",
              "      <th>3</th>\n",
              "      <td>2013-02-13</td>\n",
              "      <td>14.30</td>\n",
              "      <td>14.94</td>\n",
              "      <td>14.25</td>\n",
              "      <td>14.66</td>\n",
              "      <td>10259500</td>\n",
              "      <td>AAL</td>\n",
              "      <td>0.026963</td>\n",
              "      <td>NaN</td>\n",
              "      <td>NaN</td>\n",
              "      <td>NaN</td>\n",
              "      <td>NaN</td>\n",
              "      <td>NaN</td>\n",
              "      <td>-6748500.0</td>\n",
              "    </tr>\n",
              "    <tr>\n",
              "      <th>4</th>\n",
              "      <td>2013-02-14</td>\n",
              "      <td>14.94</td>\n",
              "      <td>14.96</td>\n",
              "      <td>13.16</td>\n",
              "      <td>13.99</td>\n",
              "      <td>31879900</td>\n",
              "      <td>AAL</td>\n",
              "      <td>-0.046780</td>\n",
              "      <td>14.426</td>\n",
              "      <td>NaN</td>\n",
              "      <td>NaN</td>\n",
              "      <td>NaN</td>\n",
              "      <td>NaN</td>\n",
              "      <td>-38628400.0</td>\n",
              "    </tr>\n",
              "    <tr>\n",
              "      <th>...</th>\n",
              "      <td>...</td>\n",
              "      <td>...</td>\n",
              "      <td>...</td>\n",
              "      <td>...</td>\n",
              "      <td>...</td>\n",
              "      <td>...</td>\n",
              "      <td>...</td>\n",
              "      <td>...</td>\n",
              "      <td>...</td>\n",
              "      <td>...</td>\n",
              "      <td>...</td>\n",
              "      <td>...</td>\n",
              "      <td>...</td>\n",
              "      <td>...</td>\n",
              "    </tr>\n",
              "    <tr>\n",
              "      <th>619035</th>\n",
              "      <td>2018-02-01</td>\n",
              "      <td>76.84</td>\n",
              "      <td>78.27</td>\n",
              "      <td>76.69</td>\n",
              "      <td>77.82</td>\n",
              "      <td>2982259</td>\n",
              "      <td>ZTS</td>\n",
              "      <td>0.014106</td>\n",
              "      <td>78.434</td>\n",
              "      <td>78.144</td>\n",
              "      <td>75.069333</td>\n",
              "      <td>73.011167</td>\n",
              "      <td>64.912281</td>\n",
              "      <td>107947916.0</td>\n",
              "    </tr>\n",
              "    <tr>\n",
              "      <th>619036</th>\n",
              "      <td>2018-02-02</td>\n",
              "      <td>77.53</td>\n",
              "      <td>78.12</td>\n",
              "      <td>76.73</td>\n",
              "      <td>76.78</td>\n",
              "      <td>2595187</td>\n",
              "      <td>ZTS</td>\n",
              "      <td>-0.013454</td>\n",
              "      <td>77.772</td>\n",
              "      <td>78.160</td>\n",
              "      <td>75.202000</td>\n",
              "      <td>73.129000</td>\n",
              "      <td>56.278229</td>\n",
              "      <td>105352729.0</td>\n",
              "    </tr>\n",
              "    <tr>\n",
              "      <th>619037</th>\n",
              "      <td>2018-02-05</td>\n",
              "      <td>76.64</td>\n",
              "      <td>76.92</td>\n",
              "      <td>73.18</td>\n",
              "      <td>73.83</td>\n",
              "      <td>2962031</td>\n",
              "      <td>ZTS</td>\n",
              "      <td>-0.039179</td>\n",
              "      <td>76.702</td>\n",
              "      <td>77.795</td>\n",
              "      <td>75.239333</td>\n",
              "      <td>73.218667</td>\n",
              "      <td>43.835616</td>\n",
              "      <td>102390698.0</td>\n",
              "    </tr>\n",
              "    <tr>\n",
              "      <th>619038</th>\n",
              "      <td>2018-02-06</td>\n",
              "      <td>72.74</td>\n",
              "      <td>74.56</td>\n",
              "      <td>72.13</td>\n",
              "      <td>73.27</td>\n",
              "      <td>4924323</td>\n",
              "      <td>ZTS</td>\n",
              "      <td>-0.007614</td>\n",
              "      <td>75.686</td>\n",
              "      <td>77.363</td>\n",
              "      <td>75.272333</td>\n",
              "      <td>73.281333</td>\n",
              "      <td>36.742424</td>\n",
              "      <td>97466375.0</td>\n",
              "    </tr>\n",
              "    <tr>\n",
              "      <th>619039</th>\n",
              "      <td>2018-02-07</td>\n",
              "      <td>72.70</td>\n",
              "      <td>75.00</td>\n",
              "      <td>72.69</td>\n",
              "      <td>73.86</td>\n",
              "      <td>4534912</td>\n",
              "      <td>ZTS</td>\n",
              "      <td>0.008020</td>\n",
              "      <td>75.112</td>\n",
              "      <td>76.916</td>\n",
              "      <td>75.334667</td>\n",
              "      <td>73.357333</td>\n",
              "      <td>40.749064</td>\n",
              "      <td>102001287.0</td>\n",
              "    </tr>\n",
              "  </tbody>\n",
              "</table>\n",
              "<p>619040 rows × 14 columns</p>\n",
              "</div>"
            ],
            "text/plain": [
              "              date   open   high    low  close    volume Name  log_return  \\\n",
              "0       2013-02-08  15.07  15.12  14.63  14.75   8407500  AAL         NaN   \n",
              "1       2013-02-11  14.89  15.01  14.26  14.46   8882000  AAL   -0.019857   \n",
              "2       2013-02-12  14.45  14.51  14.10  14.27   8126000  AAL   -0.013227   \n",
              "3       2013-02-13  14.30  14.94  14.25  14.66  10259500  AAL    0.026963   \n",
              "4       2013-02-14  14.94  14.96  13.16  13.99  31879900  AAL   -0.046780   \n",
              "...            ...    ...    ...    ...    ...       ...  ...         ...   \n",
              "619035  2018-02-01  76.84  78.27  76.69  77.82   2982259  ZTS    0.014106   \n",
              "619036  2018-02-02  77.53  78.12  76.73  76.78   2595187  ZTS   -0.013454   \n",
              "619037  2018-02-05  76.64  76.92  73.18  73.83   2962031  ZTS   -0.039179   \n",
              "619038  2018-02-06  72.74  74.56  72.13  73.27   4924323  ZTS   -0.007614   \n",
              "619039  2018-02-07  72.70  75.00  72.69  73.86   4534912  ZTS    0.008020   \n",
              "\n",
              "          MA_5   MA_10      MA_30      MA_60        RSI          OBV  \n",
              "0          NaN     NaN        NaN        NaN        NaN          0.0  \n",
              "1          NaN     NaN        NaN        NaN        NaN   -8882000.0  \n",
              "2          NaN     NaN        NaN        NaN        NaN  -17008000.0  \n",
              "3          NaN     NaN        NaN        NaN        NaN   -6748500.0  \n",
              "4       14.426     NaN        NaN        NaN        NaN  -38628400.0  \n",
              "...        ...     ...        ...        ...        ...          ...  \n",
              "619035  78.434  78.144  75.069333  73.011167  64.912281  107947916.0  \n",
              "619036  77.772  78.160  75.202000  73.129000  56.278229  105352729.0  \n",
              "619037  76.702  77.795  75.239333  73.218667  43.835616  102390698.0  \n",
              "619038  75.686  77.363  75.272333  73.281333  36.742424   97466375.0  \n",
              "619039  75.112  76.916  75.334667  73.357333  40.749064  102001287.0  \n",
              "\n",
              "[619040 rows x 14 columns]"
            ]
          },
          "execution_count": 26,
          "metadata": {},
          "output_type": "execute_result"
        }
      ],
      "source": [
        "def q4(df):\n",
        "    # Moving Averages\n",
        "    df['MA_5'] = df.groupby('Name')['close'].transform(lambda x: x.rolling(5).mean())\n",
        "    df['MA_10'] = df.groupby('Name')['close'].transform(lambda x: x.rolling(10).mean())\n",
        "    df['MA_30'] = df.groupby('Name')['close'].transform(lambda x: x.rolling(30).mean())\n",
        "    df['MA_60'] = df.groupby('Name')['close'].transform(lambda x: x.rolling(60).mean())\n",
        "    \n",
        "    # Relative Strength Index (RSI)\n",
        "    delta = df.groupby('Name')['close'].transform(lambda x: x.diff())\n",
        "    gain = delta.where(delta > 0, 0)\n",
        "    loss = -delta.where(delta < 0, 0)\n",
        "    avg_gain = gain.groupby(df['Name']).transform(lambda x: x.rolling(14).mean())\n",
        "    avg_loss = loss.groupby(df['Name']).transform(lambda x: x.rolling(14).mean())\n",
        "    rs = avg_gain / avg_loss\n",
        "    df['RSI'] = 100 - (100 / (1 + rs))\n",
        "    \n",
        "    # On-Balance Volume (OBV)\n",
        "    df['OBV'] = df.groupby('Name', group_keys=False).apply(\n",
        "        lambda x: (np.sign(x['close'].diff()) * x['volume']).fillna(0).cumsum(), include_groups=False)\n",
        "    \n",
        "    return df\n",
        "sp500_new = q4(sp500)\n",
        "sp500_new"
      ]
    },
    {
      "cell_type": "markdown",
      "id": "5eccf03f",
      "metadata": {
        "id": "5eccf03f"
      },
      "source": [
        "5. Split the datas for training (80%) and testing (20%) respectively:\n",
        "\n",
        "\n"
      ]
    },
    {
      "cell_type": "code",
      "execution_count": 27,
      "id": "cd6f8d1b",
      "metadata": {
        "id": "cd6f8d1b"
      },
      "outputs": [
        {
          "name": "stdout",
          "output_type": "stream",
          "text": [
            "\n",
            "Training set size: 495125 \n",
            "Testing set size: 123915\n",
            "\n",
            "Last row of training data:\n",
            "       Name        date\n",
            "618787  ZTS  2017-02-07\n",
            "\n",
            "First row of testing data:\n",
            "      Name        date\n",
            "72618    A  2017-02-08\n"
          ]
        }
      ],
      "source": [
        "# Split data into training (80%) and testing (20%) sets while preserving time order\n",
        "# I also did this by grouping stock names to ensure that each stock's data is split correctly\n",
        "def time_series_split(df, test_size):\n",
        "    df = df.sort_values(['Name', 'date'])    # Sort by stock name and date\n",
        "    grouped = df.groupby('Name')   # Group by stock name\n",
        "    \n",
        "    # Split each stock's data\n",
        "    train_dfs = []\n",
        "    test_dfs = []\n",
        "    \n",
        "    for name, group in grouped:\n",
        "        # Calculate split index9\n",
        "        split_idx = int(len(group) * (1 - test_size))\n",
        "        \n",
        "        # Split while preserving time order\n",
        "        train = group.iloc[:split_idx]\n",
        "        test = group.iloc[split_idx:]\n",
        "        \n",
        "        train_dfs.append(train)\n",
        "        test_dfs.append(test)\n",
        "        \n",
        "    return pd.concat(train_dfs), pd.concat(test_dfs)  # Concatenate all together to only one dataframe format\n",
        "\n",
        "\n",
        "# Split the data\n",
        "train_data, test_data = time_series_split(sp500_new, test_size=0.2)\n",
        "\n",
        "\n",
        "\n",
        "# Verify the split, hope they are in right time and name order!!!!!!\n",
        "print(f\"\\nTraining set size: {len(train_data)} \")\n",
        "print(f\"Testing set size: {len(test_data)}\")\n",
        "\n",
        "print(\"\\nLast row of training data:\")\n",
        "print(train_data[['Name', 'date']].tail(1))\n",
        "\n",
        "print(\"\\nFirst row of testing data:\")\n",
        "print(test_data[['Name', 'date']].head(1))"
      ]
    },
    {
      "cell_type": "markdown",
      "id": "fefd2522",
      "metadata": {
        "id": "fefd2522"
      },
      "source": [
        "6. Apply the XGBoost model and report the result."
      ]
    },
    {
      "cell_type": "code",
      "execution_count": 28,
      "id": "8a68e059",
      "metadata": {
        "id": "8a68e059"
      },
      "outputs": [
        {
          "name": "stdout",
          "output_type": "stream",
          "text": [
            "\n",
            "XGBoost Model Performance:\n",
            "MSE: 1295.3348\n",
            "MAE: 4.0322\n",
            "RMSE: 35.9908\n",
            "R^2: 0.9203\n"
          ]
        }
      ],
      "source": [
        "# Data preprocessing\n",
        "def clean_data(df):\n",
        "    # Fill missing values by forward and backward filling within each stock group\n",
        "    df = df.groupby('Name', group_keys=False).apply(lambda x: x.ffill().bfill(), include_groups=False)\n",
        "    \n",
        "    # Drop rows where technical indicators couldn't be calculated\n",
        "    df = df.dropna(subset=['MA_5', 'MA_10', 'MA_30', 'MA_60', 'RSI', 'OBV'])\n",
        "    \n",
        "    # Ensure no infinite values\n",
        "    df = df.replace([np.inf, -np.inf], np.nan).dropna()\n",
        "    \n",
        "    return df\n",
        "\n",
        "train_data = clean_data(train_data)\n",
        "test_data = clean_data(test_data)\n",
        "# print(f\"\\n Training set after cleaning: {len(train_data)}\")\n",
        "# print(f\"Testing set after cleaning: {len(test_data)}\")\n",
        "\n",
        "# Feature selection for models\n",
        "features = ['MA_5', 'MA_10', 'MA_30', 'MA_60', 'RSI', 'OBV']\n",
        "target = 'close'\n",
        "\n",
        "X_train = train_data[features]\n",
        "y_train = train_data[target]\n",
        "X_test = test_data[features]\n",
        "y_test = test_data[target]\n",
        "\n",
        "# XGBoost Model\n",
        "\n",
        "xgb_model = xgb.XGBRegressor(\n",
        "    objective='reg:squarederror', \n",
        "    n_estimators=100,\n",
        "    random_state=42)\n",
        "xgb_model.fit(X_train, y_train)\n",
        "\n",
        "# XGBoost predictions and evaluation\n",
        "xgb_pred = xgb_model.predict(X_test)\n",
        "xgb_mse = mean_squared_error(y_test, xgb_pred)\n",
        "xgb_mae = mean_absolute_error(y_test, xgb_pred)\n",
        "xgb_rmse = np.sqrt(xgb_mse)\n",
        "xgb_r2 = r2_score(y_test, xgb_pred)\n",
        "\n",
        "print(\"\\nXGBoost Model Performance:\")\n",
        "print(f\"MSE: {xgb_mse:.4f}\")\n",
        "print(f\"MAE: {xgb_mae:.4f}\")\n",
        "print(f\"RMSE: {xgb_rmse:.4f}\")\n",
        "print(f\"R^2: {xgb_r2:.4f}\")"
      ]
    },
    {
      "cell_type": "markdown",
      "id": "1aa58826",
      "metadata": {},
      "source": [
        "7. Apply the LSTM model and report the result."
      ]
    },
    {
      "cell_type": "code",
      "execution_count": 29,
      "id": "a096c7ab",
      "metadata": {},
      "outputs": [
        {
          "name": "stdout",
          "output_type": "stream",
          "text": [
            "Epoch 1/10\n",
            "\u001b[1m15472/15472\u001b[0m \u001b[32m━━━━━━━━━━━━━━━━━━━━\u001b[0m\u001b[37m\u001b[0m \u001b[1m39s\u001b[0m 2ms/step - loss: 555.2968\n",
            "Epoch 2/10\n",
            "\u001b[1m15472/15472\u001b[0m \u001b[32m━━━━━━━━━━━━━━━━━━━━\u001b[0m\u001b[37m\u001b[0m \u001b[1m38s\u001b[0m 2ms/step - loss: 58.0493\n",
            "Epoch 3/10\n",
            "\u001b[1m15472/15472\u001b[0m \u001b[32m━━━━━━━━━━━━━━━━━━━━\u001b[0m\u001b[37m\u001b[0m \u001b[1m38s\u001b[0m 2ms/step - loss: 55.5711\n",
            "Epoch 4/10\n",
            "\u001b[1m15472/15472\u001b[0m \u001b[32m━━━━━━━━━━━━━━━━━━━━\u001b[0m\u001b[37m\u001b[0m \u001b[1m38s\u001b[0m 2ms/step - loss: 50.6235\n",
            "Epoch 5/10\n",
            "\u001b[1m15472/15472\u001b[0m \u001b[32m━━━━━━━━━━━━━━━━━━━━\u001b[0m\u001b[37m\u001b[0m \u001b[1m42s\u001b[0m 3ms/step - loss: 50.8516\n",
            "Epoch 6/10\n",
            "\u001b[1m15472/15472\u001b[0m \u001b[32m━━━━━━━━━━━━━━━━━━━━\u001b[0m\u001b[37m\u001b[0m \u001b[1m59s\u001b[0m 4ms/step - loss: 50.1990\n",
            "Epoch 7/10\n",
            "\u001b[1m15472/15472\u001b[0m \u001b[32m━━━━━━━━━━━━━━━━━━━━\u001b[0m\u001b[37m\u001b[0m \u001b[1m62s\u001b[0m 4ms/step - loss: 49.2523\n",
            "Epoch 8/10\n",
            "\u001b[1m15472/15472\u001b[0m \u001b[32m━━━━━━━━━━━━━━━━━━━━\u001b[0m\u001b[37m\u001b[0m \u001b[1m53s\u001b[0m 3ms/step - loss: 47.3148\n",
            "Epoch 9/10\n",
            "\u001b[1m15472/15472\u001b[0m \u001b[32m━━━━━━━━━━━━━━━━━━━━\u001b[0m\u001b[37m\u001b[0m \u001b[1m40s\u001b[0m 3ms/step - loss: 45.6542\n",
            "Epoch 10/10\n",
            "\u001b[1m15472/15472\u001b[0m \u001b[32m━━━━━━━━━━━━━━━━━━━━\u001b[0m\u001b[37m\u001b[0m \u001b[1m38s\u001b[0m 2ms/step - loss: 44.6048\n",
            "\u001b[1m3873/3873\u001b[0m \u001b[32m━━━━━━━━━━━━━━━━━━━━\u001b[0m\u001b[37m\u001b[0m \u001b[1m4s\u001b[0m 1ms/step\n",
            "\n",
            " LSTM Model Performance:\n",
            "MSE:  120.9792\n",
            "MAE:  1.8472\n",
            "RMSE:  10.9991\n",
            "R^2:  0.9926\n"
          ]
        }
      ],
      "source": [
        "scaler = MinMaxScaler()\n",
        "X_train_scaled = scaler.fit_transform(X_train)\n",
        "X_test_scaled = scaler.transform(X_test)\n",
        "\n",
        "# Reshape for LSTM [samples, timesteps, features]\n",
        "X_train_lstm = X_train_scaled.reshape(X_train_scaled.shape[0], 1, X_train_scaled.shape[1])\n",
        "X_test_lstm = X_test_scaled.reshape(X_test_scaled.shape[0], 1, X_test_scaled.shape[1])\n",
        "\n",
        "# Build LSTM model\n",
        "lstm_model = Sequential([\n",
        "    Input(shape=(1, X_train_scaled.shape[1])),  # Input layer\n",
        "    LSTM(128, return_sequences=True),  # First layer LSTM\n",
        "    Dropout(0.2),  # Prevent overfitting\n",
        "    LSTM(64),  # Second layer LSTM\n",
        "    Dropout(0.2),  # Dropout second layer\n",
        "    Dense(32, activation='relu'),  # Fully connected layer\n",
        "    Dense(1)  # Output layer\n",
        "])\n",
        "lstm_model.compile(optimizer='adam', loss='mse')\n",
        "\n",
        "# Train model\n",
        "training_log = lstm_model.fit(\n",
        "                        X_train_lstm, \n",
        "                        y_train, \n",
        "                        epochs=10, \n",
        "                        batch_size=32, \n",
        "                        verbose=1)\n",
        "\n",
        "# Make predictions\n",
        "lstm_pred = lstm_model.predict(X_test_lstm)\n",
        "\n",
        "# Evaluate\n",
        "lstm_mse = mean_squared_error(y_test, lstm_pred)\n",
        "lstm_mae = mean_absolute_error(y_test, lstm_pred)\n",
        "lstm_rmse = np.sqrt(lstm_mse)\n",
        "lstm_r2 = r2_score(y_test, lstm_pred)\n",
        "\n",
        "# Model evaluation\n",
        "print(\"\\n LSTM Model Performance:\")\n",
        "print(f\"{'MSE:  '}{lstm_mse:.4f}\")\n",
        "print(f\"{'MAE:  '}{lstm_mae:.4f}\")\n",
        "print(f\"{'RMSE:  '}{lstm_rmse:.4f}\")\n",
        "print(f\"{'R^2:  '}{lstm_r2:.4f}\")\n",
        "# print(training_log.history['loss'])\n",
        "# plt.plot(training_log.history['loss'])\n",
        "# plt.title('Model Training Progress')\n",
        "# plt.ylabel('Loss')\n",
        "# plt.xlabel('Epoch')\n",
        "# plt.show()"
      ]
    },
    {
      "cell_type": "markdown",
      "id": "z0W8PYowNnU5",
      "metadata": {
        "id": "z0W8PYowNnU5"
      },
      "source": [
        "8. Now label the daily return as being positive or negative and predict the direction of the daily market move as a classfication problem. If possible, modify the models and try to achieve an accuracy of at least 60%."
      ]
    },
    {
      "cell_type": "code",
      "execution_count": 30,
      "id": "cb4ca32c",
      "metadata": {},
      "outputs": [
        {
          "name": "stdout",
          "output_type": "stream",
          "text": [
            "\n",
            "XGBoost Classifier Performance:\n",
            "Accuracy: 0.6115\n"
          ]
        }
      ],
      "source": [
        "# XGBoost Classifier for Market Direction Prediction\n",
        "# Create binary label for daily return direction (1 for positive, 0 for negative)\n",
        "train_data['direction'] = (train_data['log_return'] > 0).astype(int)\n",
        "test_data['direction'] = (test_data['log_return'] > 0).astype(int)\n",
        "\n",
        "# Feature selection for classification\n",
        "X_train_clf = train_data[features]\n",
        "y_train_clf = train_data['direction']\n",
        "X_test_clf = test_data[features]\n",
        "y_test_clf = test_data['direction']\n",
        "\n",
        "# XGBoost Classifier\n",
        "xgb_clf = xgb.XGBClassifier(\n",
        "    objective='binary:logistic',\n",
        "    n_estimators=200,\n",
        "    max_depth=6,\n",
        "    learning_rate=0.1,\n",
        "    random_state=42,\n",
        "    eval_metric='logloss'\n",
        ")\n",
        "xgb_clf.fit(X_train_clf, y_train_clf)\n",
        "\n",
        "# Classification predictions and evaluation\n",
        "xgb_clf_pred = xgb_clf.predict(X_test_clf)\n",
        "xgb_clf_accuracy = (xgb_clf_pred == y_test_clf).mean()\n",
        "\n",
        "print(\"\\nXGBoost Classifier Performance:\")\n",
        "print(f\"Accuracy: {xgb_clf_accuracy:.4f}\")"
      ]
    },
    {
      "cell_type": "code",
      "execution_count": 31,
      "id": "f7dbfa7a",
      "metadata": {},
      "outputs": [
        {
          "name": "stdout",
          "output_type": "stream",
          "text": [
            "Epoch 1/15\n",
            "\u001b[1m15472/15472\u001b[0m \u001b[32m━━━━━━━━━━━━━━━━━━━━\u001b[0m\u001b[37m\u001b[0m \u001b[1m42s\u001b[0m 3ms/step - accuracy: 0.5744 - loss: 0.6758\n",
            "Epoch 2/15\n",
            "\u001b[1m15472/15472\u001b[0m \u001b[32m━━━━━━━━━━━━━━━━━━━━\u001b[0m\u001b[37m\u001b[0m \u001b[1m61s\u001b[0m 4ms/step - accuracy: 0.5762 - loss: 0.6751\n",
            "Epoch 3/15\n",
            "\u001b[1m15472/15472\u001b[0m \u001b[32m━━━━━━━━━━━━━━━━━━━━\u001b[0m\u001b[37m\u001b[0m \u001b[1m61s\u001b[0m 4ms/step - accuracy: 0.5769 - loss: 0.6749\n",
            "Epoch 4/15\n",
            "\u001b[1m15472/15472\u001b[0m \u001b[32m━━━━━━━━━━━━━━━━━━━━\u001b[0m\u001b[37m\u001b[0m \u001b[1m62s\u001b[0m 4ms/step - accuracy: 0.5773 - loss: 0.6746\n",
            "Epoch 5/15\n",
            "\u001b[1m15472/15472\u001b[0m \u001b[32m━━━━━━━━━━━━━━━━━━━━\u001b[0m\u001b[37m\u001b[0m \u001b[1m62s\u001b[0m 4ms/step - accuracy: 0.5777 - loss: 0.6741\n",
            "Epoch 6/15\n",
            "\u001b[1m15472/15472\u001b[0m \u001b[32m━━━━━━━━━━━━━━━━━━━━\u001b[0m\u001b[37m\u001b[0m \u001b[1m64s\u001b[0m 4ms/step - accuracy: 0.5784 - loss: 0.6739\n",
            "Epoch 7/15\n",
            "\u001b[1m15472/15472\u001b[0m \u001b[32m━━━━━━━━━━━━━━━━━━━━\u001b[0m\u001b[37m\u001b[0m \u001b[1m62s\u001b[0m 4ms/step - accuracy: 0.5793 - loss: 0.6735\n",
            "Epoch 8/15\n",
            "\u001b[1m15472/15472\u001b[0m \u001b[32m━━━━━━━━━━━━━━━━━━━━\u001b[0m\u001b[37m\u001b[0m \u001b[1m65s\u001b[0m 4ms/step - accuracy: 0.5801 - loss: 0.6729\n",
            "Epoch 9/15\n",
            "\u001b[1m15472/15472\u001b[0m \u001b[32m━━━━━━━━━━━━━━━━━━━━\u001b[0m\u001b[37m\u001b[0m \u001b[1m63s\u001b[0m 4ms/step - accuracy: 0.5814 - loss: 0.6723\n",
            "Epoch 10/15\n",
            "\u001b[1m15472/15472\u001b[0m \u001b[32m━━━━━━━━━━━━━━━━━━━━\u001b[0m\u001b[37m\u001b[0m \u001b[1m63s\u001b[0m 4ms/step - accuracy: 0.5842 - loss: 0.6711\n",
            "Epoch 11/15\n",
            "\u001b[1m15472/15472\u001b[0m \u001b[32m━━━━━━━━━━━━━━━━━━━━\u001b[0m\u001b[37m\u001b[0m \u001b[1m64s\u001b[0m 4ms/step - accuracy: 0.5868 - loss: 0.6701\n",
            "Epoch 12/15\n",
            "\u001b[1m15472/15472\u001b[0m \u001b[32m━━━━━━━━━━━━━━━━━━━━\u001b[0m\u001b[37m\u001b[0m \u001b[1m64s\u001b[0m 4ms/step - accuracy: 0.5873 - loss: 0.6696\n",
            "Epoch 13/15\n",
            "\u001b[1m15472/15472\u001b[0m \u001b[32m━━━━━━━━━━━━━━━━━━━━\u001b[0m\u001b[37m\u001b[0m \u001b[1m65s\u001b[0m 4ms/step - accuracy: 0.5888 - loss: 0.6690\n",
            "Epoch 14/15\n",
            "\u001b[1m15472/15472\u001b[0m \u001b[32m━━━━━━━━━━━━━━━━━━━━\u001b[0m\u001b[37m\u001b[0m \u001b[1m64s\u001b[0m 4ms/step - accuracy: 0.5896 - loss: 0.6687\n",
            "Epoch 15/15\n",
            "\u001b[1m15472/15472\u001b[0m \u001b[32m━━━━━━━━━━━━━━━━━━━━\u001b[0m\u001b[37m\u001b[0m \u001b[1m65s\u001b[0m 4ms/step - accuracy: 0.5905 - loss: 0.6685\n",
            "\u001b[1m3873/3873\u001b[0m \u001b[32m━━━━━━━━━━━━━━━━━━━━\u001b[0m\u001b[37m\u001b[0m \u001b[1m7s\u001b[0m 2ms/step\n",
            "\n",
            "LSTM Classifier Performance:\n",
            "Accuracy: 0.6071\n"
          ]
        }
      ],
      "source": [
        "# LSTM Classifier for Market Direction Prediction\n",
        "# Prepare data for LSTM\n",
        "scaler = MinMaxScaler()\n",
        "X_train_clf_scaled = scaler.fit_transform(X_train_clf)\n",
        "X_test_clf_scaled = scaler.transform(X_test_clf)\n",
        "\n",
        "# Reshape for LSTM [samples, timesteps, features]\n",
        "X_train_lstm_clf = X_train_clf_scaled.reshape(X_train_clf_scaled.shape[0], 1, X_train_clf_scaled.shape[1])\n",
        "X_test_lstm_clf = X_test_clf_scaled.reshape(X_test_clf_scaled.shape[0], 1, X_test_clf_scaled.shape[1])\n",
        "\n",
        "# Build LSTM classification model\n",
        "lstm_clf_model = Sequential([\n",
        "    Input(shape=(1, X_train_clf_scaled.shape[1])),\n",
        "    LSTM(128, return_sequences=True),\n",
        "    Dropout(0.2),\n",
        "    LSTM(64),\n",
        "    Dropout(0.2),\n",
        "    Dense(32, activation='relu'),\n",
        "    Dense(1, activation='sigmoid')  # Binary classification output\n",
        "])\n",
        "\n",
        "lstm_clf_model.compile(\n",
        "    optimizer='adam',\n",
        "    loss='binary_crossentropy', # L = -(y*log(p) + (1-y)*log(1-p))\n",
        "    metrics=['accuracy']   # (TP + TN) / (TP + TN + FP + FN)\n",
        ")\n",
        "\n",
        "# Train model\n",
        "training_log2 = lstm_clf_model.fit(\n",
        "    X_train_lstm_clf,\n",
        "    y_train_clf,\n",
        "    epochs=15,\n",
        "    batch_size=32,\n",
        "    verbose=1\n",
        ")\n",
        "\n",
        "# Evaluate model\n",
        "lstm_clf_pred_proba = lstm_clf_model.predict(X_test_lstm_clf)\n",
        "lstm_clf_pred = (lstm_clf_pred_proba > 0.5).astype(int)\n",
        "lstm_clf_accuracy = (lstm_clf_pred.flatten() == y_test_clf).mean()\n",
        "\n",
        "print(\"\\nLSTM Classifier Performance:\")\n",
        "print(f\"Accuracy: {lstm_clf_accuracy:.4f}\")"
      ]
    }
  ],
  "metadata": {
    "colab": {
      "provenance": []
    },
    "kernelspec": {
      "display_name": "Python 3",
      "language": "python",
      "name": "python3"
    },
    "language_info": {
      "codemirror_mode": {
        "name": "ipython",
        "version": 3
      },
      "file_extension": ".py",
      "mimetype": "text/x-python",
      "name": "python",
      "nbconvert_exporter": "python",
      "pygments_lexer": "ipython3",
      "version": "3.13.3"
    }
  },
  "nbformat": 4,
  "nbformat_minor": 5
}
