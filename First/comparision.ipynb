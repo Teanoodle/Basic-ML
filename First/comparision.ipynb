{
 "cells": [
  {
   "cell_type": "markdown",
   "id": "24907a36",
   "metadata": {
    "id": "24907a36"
   },
   "source": [
    "# Problem Sheet 1 - Solutions (Q10 onwards)"
   ]
  },
  {
   "cell_type": "markdown",
   "id": "072db3d8",
   "metadata": {
    "id": "072db3d8"
   },
   "source": [
    "This notebook contains solutions to questions 10 and beyond from Problem Sheet 1, continuing the analysis of S&amp;P500 stocks data."
   ]
  },
  {
   "cell_type": "markdown",
   "id": "f30a92e0",
   "metadata": {
    "id": "f30a92e0"
   },
   "source": [
    "### Import required libraries and load data"
   ]
  },
  {
   "cell_type": "code",
   "execution_count": null,
   "id": "f1e973ef",
   "metadata": {
    "id": "f1e973ef"
   },
   "outputs": [],
   "source": [
    "import pandas as pd\n",
    "import matplotlib.pyplot as plt\n",
    "import numpy as np\n",
    "\n",
    "# Load the dataset\n",
    "sp500 = pd.read_csv('all_stocks_5yr.csv')\n",
    "# Convert date column to datetime\n",
    "sp500['date'] = pd.to_datetime(sp500['date'])"
   ]
  },
  {
   "cell_type": "markdown",
   "id": "efd8937c",
   "metadata": {
    "id": "efd8937c"
   },
   "source": [
    "### Question 10: Calculate and plot the moving average for Apple stock"
   ]
  },
  {
   "cell_type": "code",
   "execution_count": null,
   "id": "589c23f8",
   "metadata": {
    "id": "589c23f8"
   },
   "outputs": [],
   "source": [
    "# Filter Apple stock data\n",
    "apple = sp500[sp500['Name'] == 'AAPL']\n",
    "\n",
    "# Calculate 30-day moving average\n",
    "apple['30_day_MA'] = apple['close'].rolling(window=30).mean()\n",
    "\n",
    "# Plot closing price and moving average\n",
    "plt.figure(figsize=(12,6))\n",
    "plt.plot(apple['date'], apple['close'], label='Daily Close Price')\n",
    "plt.plot(apple['date'], apple['30_day_MA'], label='30-Day Moving Average', color='red')\n",
    "plt.title('Apple Stock Price with 30-Day Moving Average')\n",
    "plt.xlabel('Date')\n",
    "plt.ylabel('Price ($)')\n",
    "plt.legend()\n",
    "plt.show()"
   ]
  },
  {
   "cell_type": "markdown",
   "id": "cad92a29",
   "metadata": {
    "id": "cad92a29"
   },
   "source": [
    "### Question 11: Compare the volatility of Apple and Microsoft stocks"
   ]
  },
  {
   "cell_type": "code",
   "execution_count": null,
   "id": "99c3c534",
   "metadata": {
    "id": "99c3c534"
   },
   "outputs": [],
   "source": [
    "# Filter Microsoft stock data\n",
    "microsoft = sp500[sp500['Name'] == 'MSFT']\n",
    "\n",
    "# Calculate daily returns\n",
    "apple['daily_return'] = apple['close'].pct_change()\n",
    "microsoft['daily_return'] = microsoft['close'].pct_change()\n",
    "\n",
    "# Calculate standard deviation of returns (volatility)\n",
    "apple_volatility = apple['daily_return'].std()\n",
    "microsoft_volatility = microsoft['daily_return'].std()\n",
    "\n",
    "print(f\"Apple volatility (std of daily returns): {apple_volatility:.4f}\")\n",
    "print(f\"Microsoft volatility (std of daily returns): {microsoft_volatility:.4f}\")\n",
    "\n",
    "# Plot the comparison\n",
    "plt.figure(figsize=(12,6))\n",
    "plt.plot(apple['date'], apple['daily_return'], label='Apple Daily Returns')\n",
    "plt.plot(microsoft['date'], microsoft['daily_return'], label='Microsoft Daily Returns', alpha=0.7)\n",
    "plt.title('Daily Returns Comparison: Apple vs Microsoft')\n",
    "plt.xlabel('Date')\n",
    "plt.ylabel('Daily Returns')\n",
    "plt.legend()\n",
    "plt.show()"
   ]
  },
  {
   "cell_type": "markdown",
   "id": "97c127ae",
   "metadata": {
    "id": "97c127ae"
   },
   "source": [
    "### Question 12: Analyze the correlation between Apple and Microsoft stock prices"
   ]
  },
  {
   "cell_type": "code",
   "execution_count": null,
   "id": "32c3fff4",
   "metadata": {
    "id": "32c3fff4"
   },
   "outputs": [],
   "source": [
    "# Merge the two datasets on date\n",
    "combined = pd.merge(apple[['date', 'close']], microsoft[['date', 'close']], on='date', suffixes=('_AAPL', '_MSFT'))\n",
    "\n",
    "# Calculate correlation\n",
    "correlation = combined['close_AAPL'].corr(combined['close_MSFT'])\n",
    "print(f\"Correlation between Apple and Microsoft stock prices: {correlation:.4f}\")\n",
    "\n",
    "# Scatter plot\n",
    "plt.figure(figsize=(8,8))\n",
    "plt.scatter(combined['close_AAPL'], combined['close_MSFT'], alpha=0.5)\n",
    "plt.title('Apple vs Microsoft Stock Prices')\n",
    "plt.xlabel('Apple Stock Price ($)')\n",
    "plt.ylabel('Microsoft Stock Price ($)')\n",
    "plt.show()"
   ]
  },
  {
   "cell_type": "markdown",
   "id": "f855709c",
   "metadata": {
    "id": "f855709c"
   },
   "source": [
    "### Question 13: Calculate and plot the cumulative returns for Apple stock"
   ]
  },
  {
   "cell_type": "code",
   "execution_count": null,
   "id": "64b62445",
   "metadata": {
    "id": "64b62445"
   },
   "outputs": [],
   "source": [
    "# Calculate cumulative returns\n",
    "apple['cumulative_return'] = (1 + apple['daily_return']).cumprod()\n",
    "\n",
    "# Plot cumulative returns\n",
    "plt.figure(figsize=(12,6))\n",
    "plt.plot(apple['date'], apple['cumulative_return'])\n",
    "plt.title('Apple Stock Cumulative Returns')\n",
    "plt.xlabel('Date')\n",
    "plt.ylabel('Cumulative Returns')\n",
    "plt.show()"
   ]
  },
  {
   "cell_type": "markdown",
   "id": "33fd7e98",
   "metadata": {
    "id": "33fd7e98"
   },
   "source": [
    "### Question 14: Analyze the volume-price relationship for Apple stock"
   ]
  },
  {
   "cell_type": "code",
   "execution_count": null,
   "id": "bf121bf5",
   "metadata": {
    "id": "bf121bf5"
   },
   "outputs": [],
   "source": [
    "# Calculate 30-day average volume\n",
    "apple['30_day_avg_volume'] = apple['volume'].rolling(window=30).mean()\n",
    "\n",
    "# Create subplots\n",
    "fig, (ax1, ax2) = plt.subplots(2, 1, figsize=(12,10), sharex=True)\n",
    "\n",
    "# Plot price\n",
    "ax1.plot(apple['date'], apple['close'], color='blue')\n",
    "ax1.set_ylabel('Price ($)', color='blue')\n",
    "ax1.tick_params(axis='y', labelcolor='blue')\n",
    "\n",
    "# Plot volume\n",
    "ax2.plot(apple['date'], apple['30_day_avg_volume'], color='green')\n",
    "ax2.set_ylabel('30-Day Avg Volume', color='green')\n",
    "ax2.tick_params(axis='y', labelcolor='green')\n",
    "\n",
    "plt.xlabel('Date')\n",
    "plt.suptitle('Apple Stock: Price and Volume Relationship')\n",
    "plt.show()"
   ]
  },
  {
   "cell_type": "markdown",
   "id": "97c127ae",
   "metadata": {
    "id": "97c127ae"
   },
   "source": [
    "### Question 15: Compare the performance of top 5 tech stocks"
   ]
  },
  {
   "cell_type": "code",
   "execution_count": null,
   "id": "32c3fff4",
   "metadata": {
    "id": "32c3fff4"
   },
   "outputs": [],
   "source": [
    "# List of top tech stocks\n",
    "tech_stocks = ['AAPL', 'MSFT', 'GOOGL', 'AMZN', 'FB']\n",
    "\n",
    "# Filter and calculate cumulative returns\n",
    "tech_data = sp500[sp500['Name'].isin(tech_stocks)]\n",
    "tech_pivot = tech_data.pivot(index='date', columns='Name', values='close')\n",
    "tech_returns = tech_pivot.pct_change().add(1).cumprod()\n",
    "\n",
    "# Plot cumulative returns\n",
    "plt.figure(figsize=(12,6))\n",
    "for stock in tech_stocks:\n",
    "    plt.plot(tech_returns.index, tech_returns[stock], label=stock)\n",
    "    \n",
    "plt.title('Cumulative Returns Comparison: Top Tech Stocks')\n",
    "plt.xlabel('Date')\n",
    "plt.ylabel('Cumulative Returns')\n",
    "plt.legend()\n",
    "plt.show()"
   ]
  }
 ],
 "metadata": {
  "kernelspec": {
   "display_name": "Python 3 (ipykernel)",
   "language": "python",
   "name": "python3"
  },
  "language_info": {
   "codemirror_mode": {
    "name": "ipython",
    "version": 3
   },
   "file_extension": ".py",
   "mimetype": "text/x-python",
   "name": "python",
   "nbconvert_exporter": "python",
   "pygments_lexer": "ipython3",
   "version": "3.9.7"
  }
 },
 "nbformat": 4,
 "nbformat_minor": 5
}
