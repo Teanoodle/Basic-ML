{
  "cells": [
    {
      "cell_type": "markdown",
      "id": "24907a36",
      "metadata": {
        "id": "24907a36"
      },
      "source": [
        "# Problem Sheet 1\n"
      ]
    },
    {
      "cell_type": "markdown",
      "id": "072db3d8",
      "metadata": {
        "id": "072db3d8"
      },
      "source": [
        "In this problem sheet, you are expected to\n",
        "- Import the datas from either online/local data source;\n",
        "- Perform exploratory data analysis, data imputation;\n",
        "- Divide sp500 into train set and test set;\n",
        "- Experience how model fitting, model evaluation works (without going into the \"blackbox\")"
      ]
    },
    {
      "cell_type": "markdown",
      "id": "f30a92e0",
      "metadata": {
        "id": "f30a92e0"
      },
      "source": [
        "### Question 1 : sp500 Importation"
      ]
    },
    {
      "cell_type": "markdown",
      "id": "593a4ad3",
      "metadata": {
        "id": "593a4ad3"
      },
      "source": [
        "1. Import the S&P500 stocks price datas (all_stocks_5yr.csv) as pandas Dataframe into your notebook, from the source Dataset: https://www.kaggle.com/camnugent/sandp500, name this data frame as \"sp500\"."
      ]
    },
    {
      "cell_type": "code",
      "execution_count": 1,
      "id": "f1e973ef",
      "metadata": {
        "id": "f1e973ef"
      },
      "outputs": [
        {
          "data": {
            "application/vnd.microsoft.datawrangler.viewer.v0+json": {
              "columns": [
                {
                  "name": "index",
                  "rawType": "int64",
                  "type": "integer"
                },
                {
                  "name": "date",
                  "rawType": "object",
                  "type": "string"
                },
                {
                  "name": "open",
                  "rawType": "float64",
                  "type": "float"
                },
                {
                  "name": "high",
                  "rawType": "float64",
                  "type": "float"
                },
                {
                  "name": "low",
                  "rawType": "float64",
                  "type": "float"
                },
                {
                  "name": "close",
                  "rawType": "float64",
                  "type": "float"
                },
                {
                  "name": "volume",
                  "rawType": "int64",
                  "type": "integer"
                },
                {
                  "name": "Name",
                  "rawType": "object",
                  "type": "string"
                }
              ],
              "ref": "224ec8f0-e80b-4f67-b9af-f287f244dcb9",
              "rows": [
                [
                  "0",
                  "2013-02-08",
                  "15.07",
                  "15.12",
                  "14.63",
                  "14.75",
                  "8407500",
                  "AAL"
                ],
                [
                  "1",
                  "2013-02-11",
                  "14.89",
                  "15.01",
                  "14.26",
                  "14.46",
                  "8882000",
                  "AAL"
                ],
                [
                  "2",
                  "2013-02-12",
                  "14.45",
                  "14.51",
                  "14.1",
                  "14.27",
                  "8126000",
                  "AAL"
                ],
                [
                  "3",
                  "2013-02-13",
                  "14.3",
                  "14.94",
                  "14.25",
                  "14.66",
                  "10259500",
                  "AAL"
                ],
                [
                  "4",
                  "2013-02-14",
                  "14.94",
                  "14.96",
                  "13.16",
                  "13.99",
                  "31879900",
                  "AAL"
                ]
              ],
              "shape": {
                "columns": 7,
                "rows": 5
              }
            },
            "text/html": [
              "<div>\n",
              "<style scoped>\n",
              "    .dataframe tbody tr th:only-of-type {\n",
              "        vertical-align: middle;\n",
              "    }\n",
              "\n",
              "    .dataframe tbody tr th {\n",
              "        vertical-align: top;\n",
              "    }\n",
              "\n",
              "    .dataframe thead th {\n",
              "        text-align: right;\n",
              "    }\n",
              "</style>\n",
              "<table border=\"1\" class=\"dataframe\">\n",
              "  <thead>\n",
              "    <tr style=\"text-align: right;\">\n",
              "      <th></th>\n",
              "      <th>date</th>\n",
              "      <th>open</th>\n",
              "      <th>high</th>\n",
              "      <th>low</th>\n",
              "      <th>close</th>\n",
              "      <th>volume</th>\n",
              "      <th>Name</th>\n",
              "    </tr>\n",
              "  </thead>\n",
              "  <tbody>\n",
              "    <tr>\n",
              "      <th>0</th>\n",
              "      <td>2013-02-08</td>\n",
              "      <td>15.07</td>\n",
              "      <td>15.12</td>\n",
              "      <td>14.63</td>\n",
              "      <td>14.75</td>\n",
              "      <td>8407500</td>\n",
              "      <td>AAL</td>\n",
              "    </tr>\n",
              "    <tr>\n",
              "      <th>1</th>\n",
              "      <td>2013-02-11</td>\n",
              "      <td>14.89</td>\n",
              "      <td>15.01</td>\n",
              "      <td>14.26</td>\n",
              "      <td>14.46</td>\n",
              "      <td>8882000</td>\n",
              "      <td>AAL</td>\n",
              "    </tr>\n",
              "    <tr>\n",
              "      <th>2</th>\n",
              "      <td>2013-02-12</td>\n",
              "      <td>14.45</td>\n",
              "      <td>14.51</td>\n",
              "      <td>14.10</td>\n",
              "      <td>14.27</td>\n",
              "      <td>8126000</td>\n",
              "      <td>AAL</td>\n",
              "    </tr>\n",
              "    <tr>\n",
              "      <th>3</th>\n",
              "      <td>2013-02-13</td>\n",
              "      <td>14.30</td>\n",
              "      <td>14.94</td>\n",
              "      <td>14.25</td>\n",
              "      <td>14.66</td>\n",
              "      <td>10259500</td>\n",
              "      <td>AAL</td>\n",
              "    </tr>\n",
              "    <tr>\n",
              "      <th>4</th>\n",
              "      <td>2013-02-14</td>\n",
              "      <td>14.94</td>\n",
              "      <td>14.96</td>\n",
              "      <td>13.16</td>\n",
              "      <td>13.99</td>\n",
              "      <td>31879900</td>\n",
              "      <td>AAL</td>\n",
              "    </tr>\n",
              "  </tbody>\n",
              "</table>\n",
              "</div>"
            ],
            "text/plain": [
              "         date   open   high    low  close    volume Name\n",
              "0  2013-02-08  15.07  15.12  14.63  14.75   8407500  AAL\n",
              "1  2013-02-11  14.89  15.01  14.26  14.46   8882000  AAL\n",
              "2  2013-02-12  14.45  14.51  14.10  14.27   8126000  AAL\n",
              "3  2013-02-13  14.30  14.94  14.25  14.66  10259500  AAL\n",
              "4  2013-02-14  14.94  14.96  13.16  13.99  31879900  AAL"
            ]
          },
          "execution_count": 1,
          "metadata": {},
          "output_type": "execute_result"
        }
      ],
      "source": [
        "import pandas as pd\n",
        "sp500 = pd.read_csv('all_stocks_5yr.csv')\n",
        "sp500.head()"
      ]
    },
    {
      "cell_type": "markdown",
      "id": "efd8937c",
      "metadata": {
        "id": "efd8937c"
      },
      "source": [
        "### Question 2 : Data Exploration\n"
      ]
    },
    {
      "cell_type": "markdown",
      "id": "db85f1ce",
      "metadata": {
        "id": "db85f1ce"
      },
      "source": [
        "2. What is the shape of your data? (how many rows and columns?)"
      ]
    },
    {
      "cell_type": "code",
      "execution_count": 2,
      "id": "589c23f8",
      "metadata": {
        "id": "589c23f8"
      },
      "outputs": [
        {
          "data": {
            "text/plain": [
              "(619040, 7)"
            ]
          },
          "execution_count": 2,
          "metadata": {},
          "output_type": "execute_result"
        }
      ],
      "source": [
        "sp500.shape"
      ]
    },
    {
      "cell_type": "markdown",
      "id": "cad92a29",
      "metadata": {
        "id": "cad92a29"
      },
      "source": [
        "3. Are there missing values in the data? What is missing?"
      ]
    },
    {
      "cell_type": "code",
      "execution_count": 3,
      "id": "99c3c534",
      "metadata": {
        "id": "99c3c534"
      },
      "outputs": [
        {
          "data": {
            "application/vnd.microsoft.datawrangler.viewer.v0+json": {
              "columns": [
                {
                  "name": "index",
                  "rawType": "object",
                  "type": "string"
                },
                {
                  "name": "0",
                  "rawType": "int64",
                  "type": "integer"
                }
              ],
              "ref": "8a5c075c-f53a-4154-9f8e-5b2d3ed9319d",
              "rows": [
                [
                  "date",
                  "0"
                ],
                [
                  "open",
                  "11"
                ],
                [
                  "high",
                  "8"
                ],
                [
                  "low",
                  "8"
                ],
                [
                  "close",
                  "0"
                ],
                [
                  "volume",
                  "0"
                ],
                [
                  "Name",
                  "0"
                ]
              ],
              "shape": {
                "columns": 1,
                "rows": 7
              }
            },
            "text/plain": [
              "date       0\n",
              "open      11\n",
              "high       8\n",
              "low        8\n",
              "close      0\n",
              "volume     0\n",
              "Name       0\n",
              "dtype: int64"
            ]
          },
          "execution_count": 3,
          "metadata": {},
          "output_type": "execute_result"
        }
      ],
      "source": [
        "sp500.isnull().sum()"
      ]
    },
    {
      "cell_type": "markdown",
      "id": "9eb70a21",
      "metadata": {},
      "source": [
        "4. What are the tickers of S&P500 index? (You can find them in the column \"name\"). Which ticker stands for Apple ?"
      ]
    },
    {
      "cell_type": "code",
      "execution_count": 4,
      "id": "32c3fff4",
      "metadata": {
        "id": "32c3fff4"
      },
      "outputs": [
        {
          "name": "stdout",
          "output_type": "stream",
          "text": [
            "The S&P500 contains 505 stocks. First 10 ticker examples:\n",
            "['AAL' 'AAPL' 'AAP' 'ABBV' 'ABC' 'ABT' 'ACN' 'ADBE' 'ADI' 'ADM']\n",
            "\n",
            "  The stock ticker for Apple is: AAPL\n"
          ]
        }
      ],
      "source": [
        "tickers = sp500['Name'].unique()\n",
        "print(f'The S&P500 contains {len(tickers)} stocks. First 10 ticker examples:')\n",
        "print(tickers[:10])  # There are so many! I choose to display the first 10 tickers here.\n",
        "\n",
        "# Find Apple's stock ticker\n",
        "apple_data = sp500[ sp500['Name'].str.contains('AAPL|Apple', case=False)]  # Dataframe\n",
        "if not apple_data.empty:\n",
        "    apple_ticker = apple_data['Name'].iloc[0]\n",
        "    print(f'\\n  The stock ticker for Apple is: {apple_ticker}')\n",
        "else:\n",
        "    print('No stock data found for Apple')  # Wrote an 'else', just in case."
      ]
    },
    {
      "cell_type": "markdown",
      "id": "f855709c",
      "metadata": {
        "id": "f855709c"
      },
      "source": [
        "5. What is the starting date and last date of this sp500 data?"
      ]
    },
    {
      "cell_type": "code",
      "execution_count": 5,
      "id": "64b62445",
      "metadata": {
        "id": "64b62445"
      },
      "outputs": [
        {
          "name": "stdout",
          "output_type": "stream",
          "text": [
            "Start date: 2013-02-08 00:00:00\n",
            "End date: 2018-02-07 00:00:00\n"
          ]
        }
      ],
      "source": [
        "sp500['date'] = pd.to_datetime(sp500['date'])   # Convert the date column to datetime format\n",
        "\n",
        "start_date = sp500['date'].min()   # Earliest date\n",
        "end_date = sp500['date'].max()    # Latest date\n",
        "\n",
        "print(f\"Start date: {start_date}\")\n",
        "print(f\"End date: {end_date}\")"
      ]
    },
    {
      "cell_type": "markdown",
      "id": "33fd7e98",
      "metadata": {
        "id": "33fd7e98"
      },
      "source": [
        "6.  Plot a line chart showing Apple stock prices from 2014-01-01 to 2016-12-31, including open/high/low/closed prices, in the same chart."
      ]
    },
    {
      "cell_type": "code",
      "execution_count": 6,
      "id": "bf121bf5",
      "metadata": {
        "id": "bf121bf5"
      },
      "outputs": [
        {
          "data": {
            "image/png": "[encoded data removed]",
            "text/plain": [
              "<Figure size 1200x600 with 1 Axes>"
            ]
          },
          "metadata": {},
          "output_type": "display_data"
        }
      ],
      "source": [
        "import matplotlib.pyplot as plt\n",
        "\n",
        "# Data only for Apple\n",
        "apple_data = sp500[sp500['Name'] == 'AAPL']\n",
        "\n",
        "# Filter data for the years 2014 to 2016\n",
        "q6 = (apple_data['date'] >= '2014-01-01') & (apple_data['date'] <= '2016-12-31')\n",
        "apple_data = apple_data.loc[q6]\n",
        "\n",
        "# Plotting\n",
        "plt.figure(figsize=(12, 6))\n",
        "plt.plot(apple_data['date'], apple_data['open'], label='Open')\n",
        "plt.plot(apple_data['date'], apple_data['high'], label='High')\n",
        "plt.plot(apple_data['date'], apple_data['low'], label='Low')\n",
        "plt.plot(apple_data['date'], apple_data['close'], label='Close')\n",
        "\n",
        "plt.title('Apple Stock Prices (2014-2016)')\n",
        "plt.xlabel('Date')\n",
        "plt.ylabel('Price ($)')\n",
        "plt.legend()\n",
        "plt.grid()\n",
        "plt.show()"
      ]
    },
    {
      "cell_type": "markdown",
      "id": "5eccf03f",
      "metadata": {
        "id": "5eccf03f"
      },
      "source": [
        "7. Which are the top 5 stocks whose closed prices have highest positive/negative correlation with that of Apple?"
      ]
    },
    {
      "cell_type": "code",
      "execution_count": 7,
      "id": "cd6f8d1b",
      "metadata": {
        "id": "cd6f8d1b"
      },
      "outputs": [
        {
          "name": "stdout",
          "output_type": "stream",
          "text": [
            "Pearson Correlation Results: \n",
            "\n",
            " Top 5 Most Positively Correlated Stocks:\n",
            "1. ANTM:  0.9687\n",
            "2. MAR:  0.9642\n",
            "3. MCO:  0.9574\n",
            "4. ALL:  0.9507\n",
            "5. RCL:  0.9489\n",
            "\n",
            " Top 5 Most Negatively Correlated Stocks:\n",
            "1. MAT: -0.9318\n",
            "2. UA: -0.9215\n",
            "3. EVHC: -0.8791\n",
            "4. RRC: -0.8109\n",
            "5. DISCA: -0.7946\n",
            "\n",
            "====================================================================================================\n",
            "\n",
            " Spearman Correlation Results: \n",
            "\n",
            " Top 5 Most Positively Correlated Stocks:\n",
            "1. SWKS:  0.9642\n",
            "2. MAR:  0.9618\n",
            "3. ANTM:  0.9478\n",
            "4. MCO:  0.9464\n",
            "5. FTV:  0.9455\n",
            "\n",
            " Top 5 Most Negatively Correlated Stocks:\n",
            "1. UA: -0.9348\n",
            "2. EVHC: -0.9346\n",
            "3. MAT: -0.9200\n",
            "4. RRC: -0.7942\n",
            "5. DISCA: -0.7214\n"
          ]
        }
      ],
      "source": [
        "'''In this question, I use two methods to analyze the correlation, which are Pearson and Spearman correlation, since the question\n",
        "doesn't specify the speicific method to use.\n",
        "Also I set it to be a function, so that I can call it again if I need to later.\n",
        "'''\n",
        "\n",
        "# Pearson: Measures linear relationship, range [-1,1]\n",
        "# Spearman: Measures monotonic relationship, more robust to outliers\n",
        "\n",
        "# Get Apple's closing prices\n",
        "apple_close = sp500[sp500['Name'] == 'AAPL'][['date', 'close']].rename(columns = {'close': 'AAPL_close'})\n",
        "\n",
        "# Merge with all stocks' closing prices\n",
        "all_close = pd.merge(sp500, apple_close, on ='date', how ='inner')\n",
        "\n",
        "# Group by stock name and compute correlations with AAPL\n",
        "corr_data = all_close.groupby('Name', group_keys=False).apply(\n",
        "    lambda x: pd.Series({\n",
        "        'Pearson': x['close'].corr(x['AAPL_close']),\n",
        "        'Spearman': x['close'].corr(x['AAPL_close'], method ='spearman')\n",
        "    }), include_groups=False\n",
        ").reset_index()\n",
        "\n",
        "# Pearson Correlation Output\n",
        "print(\"Pearson Correlation Results: \")\n",
        "print(\"\\n Top 5 Most Positively Correlated Stocks:\")\n",
        "\n",
        "posi_pearson = corr_data[corr_data['Name'] != 'AAPL'].sort_values('Pearson', ascending=False).head(5)\n",
        "for i, (stock, pearson, _) in enumerate(zip(\n",
        "    posi_pearson['Name'], posi_pearson['Pearson'], posi_pearson['Spearman']), 1):\n",
        "    print(f\"{i}. {stock}: {pearson : .4f}\")\n",
        "\n",
        "print(\"\\n Top 5 Most Negatively Correlated Stocks:\")\n",
        "neg_pearson = corr_data[corr_data['Name'] != 'AAPL'].sort_values('Pearson').head(5)\n",
        "for i, (stock, pearson, _) in enumerate(zip(\n",
        "    neg_pearson['Name'], neg_pearson['Pearson'], neg_pearson['Spearman']), 1):\n",
        "    print(f\"{i}. {stock}: {pearson : .4f}\")\n",
        "\n",
        "print(\"\\n\" + \"==\"*50)\n",
        "\n",
        "# Spearman Correlation Output\n",
        "print(\"\\n Spearman Correlation Results: \")\n",
        "print(\"\\n Top 5 Most Positively Correlated Stocks:\")\n",
        "posi_spearman = corr_data[corr_data['Name'] != 'AAPL'].sort_values('Spearman', ascending=False).head(5)\n",
        "for i, (stock, _, spearman) in enumerate(zip(\n",
        "    posi_spearman['Name'], posi_spearman['Pearson'], posi_spearman['Spearman']), 1):\n",
        "    print(f\"{i}. {stock}: {spearman : .4f}\")\n",
        "\n",
        "print(\"\\n Top 5 Most Negatively Correlated Stocks:\")\n",
        "neg_spearman = corr_data[corr_data['Name'] != 'AAPL'].sort_values('Spearman').head(5)\n",
        "for i, (stock, _, spearman) in enumerate(zip(\n",
        "    neg_spearman['Name'], neg_spearman['Pearson'], neg_spearman['Spearman']), 1):\n",
        "    print(f\"{i}. {stock}: {spearman : .4f}\")"
      ]
    },
    {
      "cell_type": "markdown",
      "id": "f654df3d",
      "metadata": {
        "id": "f654df3d"
      },
      "source": [
        "### Question 3 : Data Preparation\n",
        "\n"
      ]
    },
    {
      "cell_type": "markdown",
      "id": "fefd2522",
      "metadata": {
        "id": "fefd2522"
      },
      "source": [
        "8. Deal with the missing data, if there are any of them."
      ]
    },
    {
      "cell_type": "code",
      "execution_count": 8,
      "id": "05eae629",
      "metadata": {
        "id": "05eae629"
      },
      "outputs": [
        {
          "data": {
            "application/vnd.microsoft.datawrangler.viewer.v0+json": {
              "columns": [
                {
                  "name": "index",
                  "rawType": "object",
                  "type": "string"
                },
                {
                  "name": "0",
                  "rawType": "int64",
                  "type": "integer"
                }
              ],
              "ref": "697f2002-8f33-4697-8361-e0c97c9a4f34",
              "rows": [
                [
                  "date",
                  "0"
                ],
                [
                  "open",
                  "0"
                ],
                [
                  "high",
                  "0"
                ],
                [
                  "low",
                  "0"
                ],
                [
                  "close",
                  "0"
                ],
                [
                  "volume",
                  "0"
                ],
                [
                  "Name",
                  "0"
                ]
              ],
              "shape": {
                "columns": 1,
                "rows": 7
              }
            },
            "text/plain": [
              "date      0\n",
              "open      0\n",
              "high      0\n",
              "low       0\n",
              "close     0\n",
              "volume    0\n",
              "Name      0\n",
              "dtype: int64"
            ]
          },
          "execution_count": 8,
          "metadata": {},
          "output_type": "execute_result"
        }
      ],
      "source": [
        "# Fill in Missing Values, use the forward fill method.\n",
        "sp500.ffill(inplace=True)\n",
        "\n",
        "# Check if there are any missing values.\n",
        "sp500.isnull().sum()"
      ]
    },
    {
      "cell_type": "markdown",
      "id": "8a68e059",
      "metadata": {
        "id": "8a68e059"
      },
      "source": [
        "9. Extract the data of Apple, name them as \"apple\""
      ]
    },
    {
      "cell_type": "code",
      "execution_count": 9,
      "id": "c349610e",
      "metadata": {
        "id": "c349610e"
      },
      "outputs": [
        {
          "data": {
            "application/vnd.microsoft.datawrangler.viewer.v0+json": {
              "columns": [
                {
                  "name": "index",
                  "rawType": "int64",
                  "type": "integer"
                },
                {
                  "name": "date",
                  "rawType": "datetime64[ns]",
                  "type": "datetime"
                },
                {
                  "name": "open",
                  "rawType": "float64",
                  "type": "float"
                },
                {
                  "name": "high",
                  "rawType": "float64",
                  "type": "float"
                },
                {
                  "name": "low",
                  "rawType": "float64",
                  "type": "float"
                },
                {
                  "name": "close",
                  "rawType": "float64",
                  "type": "float"
                },
                {
                  "name": "volume",
                  "rawType": "int64",
                  "type": "integer"
                },
                {
                  "name": "Name",
                  "rawType": "object",
                  "type": "string"
                }
              ],
              "ref": "a3664704-acfb-4851-8140-8e8988fe1ed5",
              "rows": [
                [
                  "1259",
                  "2013-02-08 00:00:00",
                  "67.7142",
                  "68.4014",
                  "66.8928",
                  "67.8542",
                  "158168416",
                  "AAPL"
                ],
                [
                  "1260",
                  "2013-02-11 00:00:00",
                  "68.0714",
                  "69.2771",
                  "67.6071",
                  "68.5614",
                  "129029425",
                  "AAPL"
                ],
                [
                  "1261",
                  "2013-02-12 00:00:00",
                  "68.5014",
                  "68.9114",
                  "66.8205",
                  "66.8428",
                  "151829363",
                  "AAPL"
                ],
                [
                  "1262",
                  "2013-02-13 00:00:00",
                  "66.7442",
                  "67.6628",
                  "66.1742",
                  "66.7156",
                  "118721995",
                  "AAPL"
                ],
                [
                  "1263",
                  "2013-02-14 00:00:00",
                  "66.3599",
                  "67.3771",
                  "66.2885",
                  "66.6556",
                  "88809154",
                  "AAPL"
                ]
              ],
              "shape": {
                "columns": 7,
                "rows": 5
              }
            },
            "text/html": [
              "<div>\n",
              "<style scoped>\n",
              "    .dataframe tbody tr th:only-of-type {\n",
              "        vertical-align: middle;\n",
              "    }\n",
              "\n",
              "    .dataframe tbody tr th {\n",
              "        vertical-align: top;\n",
              "    }\n",
              "\n",
              "    .dataframe thead th {\n",
              "        text-align: right;\n",
              "    }\n",
              "</style>\n",
              "<table border=\"1\" class=\"dataframe\">\n",
              "  <thead>\n",
              "    <tr style=\"text-align: right;\">\n",
              "      <th></th>\n",
              "      <th>date</th>\n",
              "      <th>open</th>\n",
              "      <th>high</th>\n",
              "      <th>low</th>\n",
              "      <th>close</th>\n",
              "      <th>volume</th>\n",
              "      <th>Name</th>\n",
              "    </tr>\n",
              "  </thead>\n",
              "  <tbody>\n",
              "    <tr>\n",
              "      <th>1259</th>\n",
              "      <td>2013-02-08</td>\n",
              "      <td>67.7142</td>\n",
              "      <td>68.4014</td>\n",
              "      <td>66.8928</td>\n",
              "      <td>67.8542</td>\n",
              "      <td>158168416</td>\n",
              "      <td>AAPL</td>\n",
              "    </tr>\n",
              "    <tr>\n",
              "      <th>1260</th>\n",
              "      <td>2013-02-11</td>\n",
              "      <td>68.0714</td>\n",
              "      <td>69.2771</td>\n",
              "      <td>67.6071</td>\n",
              "      <td>68.5614</td>\n",
              "      <td>129029425</td>\n",
              "      <td>AAPL</td>\n",
              "    </tr>\n",
              "    <tr>\n",
              "      <th>1261</th>\n",
              "      <td>2013-02-12</td>\n",
              "      <td>68.5014</td>\n",
              "      <td>68.9114</td>\n",
              "      <td>66.8205</td>\n",
              "      <td>66.8428</td>\n",
              "      <td>151829363</td>\n",
              "      <td>AAPL</td>\n",
              "    </tr>\n",
              "    <tr>\n",
              "      <th>1262</th>\n",
              "      <td>2013-02-13</td>\n",
              "      <td>66.7442</td>\n",
              "      <td>67.6628</td>\n",
              "      <td>66.1742</td>\n",
              "      <td>66.7156</td>\n",
              "      <td>118721995</td>\n",
              "      <td>AAPL</td>\n",
              "    </tr>\n",
              "    <tr>\n",
              "      <th>1263</th>\n",
              "      <td>2013-02-14</td>\n",
              "      <td>66.3599</td>\n",
              "      <td>67.3771</td>\n",
              "      <td>66.2885</td>\n",
              "      <td>66.6556</td>\n",
              "      <td>88809154</td>\n",
              "      <td>AAPL</td>\n",
              "    </tr>\n",
              "  </tbody>\n",
              "</table>\n",
              "</div>"
            ],
            "text/plain": [
              "           date     open     high      low    close     volume  Name\n",
              "1259 2013-02-08  67.7142  68.4014  66.8928  67.8542  158168416  AAPL\n",
              "1260 2013-02-11  68.0714  69.2771  67.6071  68.5614  129029425  AAPL\n",
              "1261 2013-02-12  68.5014  68.9114  66.8205  66.8428  151829363  AAPL\n",
              "1262 2013-02-13  66.7442  67.6628  66.1742  66.7156  118721995  AAPL\n",
              "1263 2013-02-14  66.3599  67.3771  66.2885  66.6556   88809154  AAPL"
            ]
          },
          "execution_count": 9,
          "metadata": {},
          "output_type": "execute_result"
        }
      ],
      "source": [
        "apple = sp500[sp500['Name'] == 'AAPL'].copy()\n",
        "apple.head()"
      ]
    },
    {
      "cell_type": "markdown",
      "id": "82b7d419",
      "metadata": {
        "id": "82b7d419"
      },
      "source": [
        "10. Prepare data for training. Write a **pipeline** which consists:\n",
        "\n",
        "\n",
        "*   An **imputater**: It fills in the missing data with the average of the previous day and the next day.  \n",
        "*   An **attributesadder**: It adds the prices of previous 5 days as new attributes.\n",
        "*   An **scaler**: It scales everything numerical data into values between 0 and 1.\n",
        "\n",
        "\n",
        "\n",
        "\n"
      ]
    },
    {
      "cell_type": "code",
      "execution_count": 10,
      "id": "561ed294",
      "metadata": {},
      "outputs": [],
      "source": [
        "import pandas as pd\n",
        "from sklearn.base import BaseEstimator, TransformerMixin\n",
        "from sklearn.pipeline import Pipeline\n",
        "from sklearn.preprocessing import MinMaxScaler\n",
        "# sp500 = pd.read_csv('all_stocks_5yr.csv')\n",
        "# apple_data = sp500[sp500['Name'] == 'AAPL']\n",
        "apple = apple.sort_values('date')  # Sort by date\n",
        "raw_df = apple.copy()\n",
        "\n",
        "class Imputer(BaseEstimator, TransformerMixin):\n",
        "    \"\"\"\n",
        "    An Imputater: \n",
        "    It fills in the missing data with the average of \n",
        "    the previous day and the next day. \n",
        "    \"\"\"\n",
        "    def __init__(self, method='linear', limit_direction='both'):\n",
        "        self.method = method\n",
        "        self.limit_direction = limit_direction\n",
        "\n",
        "    def fit(self, X, y=None):\n",
        "        # No statistics need to be calculated in advance, \n",
        "        # since it depends on the adjacent values of X.\n",
        "        self.is_fitted_ = True\n",
        "        return self\n",
        "    def transform(self, X):\n",
        "        # Use the linear interpolation method to interpolate X\n",
        "        # 'limit_direction' parameter is set to 'both', \n",
        "        # which is the average of both sides of the missing value.\n",
        "        return X.interpolate(method =self.method, limit_direction =self.limit_direction)\n",
        "    \n",
        "# I wrote a file to conduct an unit test on Imputater and named it test1.py"
      ]
    },
    {
      "cell_type": "code",
      "execution_count": 11,
      "id": "96b423b9",
      "metadata": {},
      "outputs": [],
      "source": [
        "class Attributesadder(BaseEstimator, TransformerMixin):\n",
        "    \"\"\"\n",
        "    An Attributesadder:\n",
        "    It adds the prices of previous 5 days as new attributes.\n",
        "    \"\"\"\n",
        "    def __init__(self, previousday=5):\n",
        "        self.previousday = previousday\n",
        "\n",
        "    def fit(self, X, y=None):\n",
        "        # Feature addition does not require pre-calculated parameters\n",
        "        self.is_fitted_ = True\n",
        "        return self\n",
        "    def transform(self, X):\n",
        "        X = X.copy()\n",
        "        for i in range(1, 6):\n",
        "            X[f'newclose_{i}day'] = X['close'].shift(i)\n",
        "        return X #.dropna()\n",
        "        # Delete the rows containing missing values later\n",
        "        # because the data of the first 5 days is unavailable at the beginning of the dataset."
      ]
    },
    {
      "cell_type": "code",
      "execution_count": 12,
      "id": "565bbbfd",
      "metadata": {},
      "outputs": [],
      "source": [
        "class Scaler(BaseEstimator, TransformerMixin):\n",
        "    \"\"\"\n",
        "    An Scaler: \n",
        "    It scales everything numerical data into values between 0 and 1.\n",
        "    \"\"\"\n",
        "    def __init__(self):\n",
        "        self.scaler = MinMaxScaler(feature_range = (0, 1) )\n",
        "    #The transformation is given by:\n",
        "    # X_std = (X - X.min(axis=0)) / (X.max(axis=0) - X.min(axis=0))\n",
        "    # X_scaled = X_std * (max - min) + min\n",
        "    # where min, max = feature_range.\n",
        "    def fit(self, X, y=None):\n",
        "        # Call MinMaxScaler to calculate and store:\n",
        "        # The minimum and the maximum value of each feature\n",
        "        self.scaler.fit(X)\n",
        "        return self\n",
        "    def transform(self, X):\n",
        "        return self.scaler.transform(X)\n",
        "\n",
        "\n",
        "\n",
        "\n",
        "# Create a pipeline to process the data\n",
        "numeric_features = ['open', 'high', 'low', 'close', 'volume']\n",
        "pipeline = Pipeline([\n",
        "    ('Step1', Imputer()),  \n",
        "    ('Step2', Attributesadder()),\n",
        "    ('Step3', Scaler())\n",
        "])\n",
        "\n"
      ]
    },
    {
      "cell_type": "markdown",
      "id": "2663eb57",
      "metadata": {
        "id": "2663eb57"
      },
      "source": [
        "11. Divide the datas into train_set and test_set. Remember we are dealing with time series data. Refer [here](https://scikit-learn.org/stable/modules/generated/sklearn.model_selection.TimeSeriesSplit.html) for details."
      ]
    },
    {
      "cell_type": "code",
      "execution_count": 13,
      "id": "3ed8eac2",
      "metadata": {
        "id": "3ed8eac2"
      },
      "outputs": [
        {
          "name": "stdout",
          "output_type": "stream",
          "text": [
            "Train date: 2013-02-25 00:00:00 to 2017-02-10 00:00:00\n",
            "Test date: 2017-02-13 00:00:00 to 2018-02-07 00:00:00\n"
          ]
        }
      ],
      "source": [
        "from sklearn.model_selection import TimeSeriesSplit\n",
        "original_5 = ['open', 'high', 'low', 'close', 'volume']\n",
        "clean_original_5 = pipeline.fit_transform(raw_df[original_5])\n",
        "\n",
        "# Convert the values back to a DataFrame\n",
        "clean_df = pd.DataFrame(clean_original_5, \n",
        "                       columns=original_5 + [f'newclose_{i}day' for i in range(1,6)])\n",
        "clean_df['date'] = pd.to_datetime(raw_df['date'].iloc[5:].reset_index(drop=True))\n",
        "clean_df['Stock_name'] = 'AAPL'  # add a column for the stock name\n",
        "\n",
        "# In order to predict the price on the next day in the future, \n",
        "# we need to move the target variable backward by one days\n",
        "clean_df['future5_close'] = clean_df['close'].shift(-1)\n",
        "\n",
        "# Delete the lines containing NaN values.\n",
        "# Since the shift operation, the future_close in the last 5 lines will be NaN.\n",
        "clean_df.dropna(inplace=True)\n",
        "\n",
        "# Split the data into training and testing sets\n",
        "data_split = TimeSeriesSplit(n_splits=2, test_size=int(len(clean_df)*0.2)) # 80% of the data is used for training and 20% for testing\n",
        "train_index, test_index = list(data_split.split(clean_df))[-1]\n",
        "\n",
        "# Save the training and testing sets to CSV files\n",
        "clean_df.iloc[train_index].to_csv('train.csv', index=False)\n",
        "clean_df.iloc[test_index].to_csv('test.csv', index=False)\n",
        "\n",
        "# Let's do some basic checks, hopefully they are correct ! ! ! ! ! ! ! ! ! ! ! ! !\n",
        "print(f\"Train date: {clean_df.iloc[train_index].date.min()} to {clean_df.iloc[train_index].date.max()}\")\n",
        "print(f\"Test date: {clean_df.iloc[test_index].date.min()} to {clean_df.iloc[test_index].date.max()}\")"
      ]
    },
    {
      "cell_type": "markdown",
      "id": "d196ed83",
      "metadata": {
        "id": "d196ed83"
      },
      "source": [
        "### Question 4 : Prediction, and Evaluation\n",
        "\n",
        "\n"
      ]
    },
    {
      "cell_type": "markdown",
      "id": "200b5a2c",
      "metadata": {
        "id": "200b5a2c"
      },
      "source": [
        "12. Using the Linear Regression Model to predict the closed price of Apple by its price in the last 5 days.\n",
        "\n",
        "\n",
        "*   Report the R-square value\n",
        "*   Report the mean squared error.\n",
        "*   Report the equation of regression. In particular, what is the coefficient before the price of the previous day?     \n",
        "\n"
      ]
    },
    {
      "cell_type": "code",
      "execution_count": 14,
      "id": "55213080",
      "metadata": {},
      "outputs": [
        {
          "name": "stdout",
          "output_type": "stream",
          "text": [
            "R-square value: 0.9801\n",
            "Mean squared error: 0.000205\n",
            "\n",
            " Regression equation:\n",
            "Closed price of Apple =  0.0013 +  1.0206*newclose_1day + -0.0360*newclose_2day +  0.0026*newclose_3day + -0.0172*newclose_4day +  0.0277*newclose_5day\n",
            "\n",
            " The coefficient before the price of the previous day (newclose_1day) is:  1.0206\n"
          ]
        }
      ],
      "source": [
        "from sklearn.linear_model import LinearRegression as LR\n",
        "from sklearn.metrics import r2_score, mean_squared_error\n",
        "\n",
        "# read the data from csv files\n",
        "train_set = pd.read_csv('train.csv') #.dropna()  # Since we already deleted the rows containing NaN values in the pipeline: clean_df.dropna(inplace=True)\n",
        "test_set = pd.read_csv('test.csv') #.dropna()\n",
        "\n",
        "# Prepare the features (X) and target variables (y)\n",
        "# of the training set and test set for the linear regression model.\n",
        "X_train = train_set[[f'newclose_{i}day' for i in range(1, 6)]]\n",
        "y_train = train_set['close']\n",
        "X_test = test_set[[f'newclose_{i}day' for i in range(1, 6)]]\n",
        "y_test = test_set['close']\n",
        "\n",
        "\n",
        "# create a linear regression model\n",
        "model = LR()\n",
        "model.fit(X_train, y_train)\n",
        "\n",
        "# predict the target variable for the test set\n",
        "y_predict = model.predict(X_test)\n",
        "\n",
        "# Performance standard\n",
        "r2 = r2_score(y_test, y_predict)\n",
        "mse = mean_squared_error(y_test, y_predict)\n",
        "\n",
        "\n",
        "# Output\n",
        "print(f\"R-square value: {r2:.4f}\")\n",
        "print(f\"Mean squared error: {mse:.6f}\")\n",
        "\n",
        "# Regression equation\n",
        "print(\"\\n Regression equation:\")\n",
        "# y = b0 + b1*x1 + b2*x2 + ... + bn*xn\n",
        "coefficients = model.coef_\n",
        "intercept = model.intercept_\n",
        "equation = f\"Closed price of Apple = {intercept : .4f}\"\n",
        "for i, coef in enumerate(coefficients, 1): # start from 1, i.e. newclose_1day\n",
        "    equation += f\" + {coef : .4f}*newclose_{i}day\"\n",
        "\n",
        "print(equation)\n",
        "\n",
        "# Strict answer to user's question\n",
        "print(\"\\n The coefficient before the price of the previous day (newclose_1day) is:\", f\"{coefficients[0] : .4f}\")"
      ]
    },
    {
      "cell_type": "markdown",
      "id": "08740bb3",
      "metadata": {
        "id": "08740bb3"
      },
      "source": [
        "13. Using the Decision Tree Regression Model to predict the closed price of Apple by its price in the last 5 days.\n",
        "\n",
        "\n",
        "*   Report the R-square value\n",
        "*   Report the mean squared error.\n",
        "*   Report the features importance."
      ]
    },
    {
      "cell_type": "code",
      "execution_count": 15,
      "id": "e461d978",
      "metadata": {},
      "outputs": [
        {
          "name": "stdout",
          "output_type": "stream",
          "text": [
            "R-square value: -4.0867\n",
            "Mean squared error:  0.052251\n",
            "\n",
            " Features importance:\n",
            "newclose_1day:  0.2300\n",
            "newclose_2day:  0.0000\n",
            "newclose_3day:  0.0000\n",
            "newclose_4day:  0.0002\n",
            "newclose_5day:  0.7697\n"
          ]
        }
      ],
      "source": [
        "from sklearn.tree import DecisionTreeRegressor as DTR\n",
        "\n",
        "# read the data from csv files\n",
        "# train_set = pd.read_csv('train.csv').dropna()\n",
        "# test_set = pd.read_csv('test.csv').dropna()\n",
        "\n",
        "# X_train = train_set[[f'newclose_{i}day' for i in range(1, 6)]]\n",
        "# y_train = train_set['close']\n",
        "# X_test = test_set[[f'newclose_{i}day' for i in range(1, 6)]]\n",
        "# y_test = test_set['close']\n",
        "\n",
        "# Create decision tree regressor\n",
        "dt_regressor = DTR(random_state=42, max_depth=5)  # Set a random state for reproducibility and limit the depth of the tree to avoid overfitting\n",
        "dt_regressor.fit(X_train, y_train)\n",
        "\n",
        "# Prediction\n",
        "y_predict = dt_regressor.predict(X_test)\n",
        "\n",
        "\n",
        "r2 = r2_score(y_test, y_predict)\n",
        "mse = mean_squared_error(y_test, y_predict)\n",
        "features = [f'newclose_{i}day' for i in range(1, 6)]\n",
        "feature_importance = dt_regressor.feature_importances_\n",
        "\n",
        "\n",
        "# Output\n",
        "print(f\"R-square value: {r2 : .4f}\")\n",
        "print(f\"Mean squared error: {mse : .6f}\")\n",
        "print(\"\\n Features importance:\")\n",
        "for i, importance in enumerate(feature_importance):\n",
        "    print(f\"{features[i]}: {importance : .4f}\")\n"
      ]
    },
    {
      "cell_type": "markdown",
      "id": "Jvm3n81m5v46",
      "metadata": {
        "id": "Jvm3n81m5v46"
      },
      "source": [
        "14. Now instead of predict the price of the next day, predict the price after 5 days, using the two models mentioned before. What are their performances?"
      ]
    },
    {
      "cell_type": "code",
      "execution_count": 16,
      "id": "dce43392",
      "metadata": {},
      "outputs": [
        {
          "name": "stdout",
          "output_type": "stream",
          "text": [
            "Train date: 2013-02-25 00:00:00 to 2017-02-10 00:00:00\n",
            "Test date: 2017-02-13 00:00:00 to 2018-02-07 00:00:00\n",
            "====================================================================================================\n",
            "\n",
            " Regression Performance:\n",
            "R-square value:  0.8530\n",
            "Mean squared error:  0.001408\n",
            "\n",
            " Regression equation:\n",
            "Closed price of Apple at 5th day=  0.0080 +  0.9492*newclose_1day +  0.0362*newclose_2day + -0.0193*newclose_3day +  0.0358*newclose_4day + -0.0161*newclose_5day\n",
            "\n",
            " The coefficient before the price of the previous day (newclose_1day) is:  0.9492\n",
            "====================================================================================================\n",
            "\n",
            " Decision Tree Performance:\n",
            "R-square value: -5.8053\n",
            "Mean squared error:  0.065202\n",
            "\n",
            " Features importance:\n",
            "newclose_1day:  0.2179\n",
            "newclose_2day:  0.0000\n",
            "newclose_3day:  0.0025\n",
            "newclose_4day:  0.7794\n",
            "newclose_5day:  0.0002\n"
          ]
        }
      ],
      "source": [
        "# Convert the values back to a DataFrame\n",
        "clean_df = pd.DataFrame(clean_original_5, \n",
        "                       columns=original_5 + [f'newclose_{i}day' for i in range(1,6)])\n",
        "clean_df['date'] = pd.to_datetime(raw_df['date'].iloc[5:].reset_index(drop=True))\n",
        "clean_df['Stock_name'] = 'AAPL'  # add a column for the stock name\n",
        "\n",
        "# In order to predict the price on the fifth day in the future, \n",
        "# we need to move the target variable backward by five days\n",
        "clean_df['future5_close'] = clean_df['close'].shift(-5)\n",
        "\n",
        "# Delete the lines containing NaN values.\n",
        "# Since the shift operation, the future_close in the last 5 lines will be NaN.\n",
        "clean_df.dropna(inplace=True)\n",
        "\n",
        "# Split the data into training and testing sets\n",
        "tscv = TimeSeriesSplit(n_splits=2, test_size=int(len(clean_df)*0.2)) # 80% of the data is used for training and 20% for testing\n",
        "train_index, test_index = list(tscv.split(clean_df))[-1]\n",
        "\n",
        "# Here, I save the data of train and test in memory \n",
        "# instead of generating new csv files, just for convenience.\n",
        "train_set = clean_df.iloc[train_index]\n",
        "test_set = clean_df.iloc[test_index]\n",
        "\n",
        "# Let's do some basic checks, hopefully they are correct ! ! ! ! ! ! ! ! ! ! ! ! !\n",
        "print(f\"Train date: {clean_df.iloc[train_index].date.min()} to {clean_df.iloc[train_index].date.max()}\")\n",
        "print(f\"Test date: {clean_df.iloc[test_index].date.min()} to {clean_df.iloc[test_index].date.max()}\")\n",
        "print(\"==\"*50)\n",
        "\n",
        "\n",
        "\n",
        "# Prepare the features (X) and target variables (y)\n",
        "# of the training set and test set for the linear regression model.\n",
        "X_train = train_set[[f'newclose_{i}day' for i in range(1, 6)]]\n",
        "y_train = train_set['future5_close']\n",
        "X_test = test_set[[f'newclose_{i}day' for i in range(1, 6)]]\n",
        "y_test = test_set['future5_close']\n",
        "\n",
        "# create a linear regression model\n",
        "model = LR()\n",
        "model.fit(X_train, y_train)\n",
        "\n",
        "# predict the target variable for the test set\n",
        "y_predict = model.predict(X_test)\n",
        "\n",
        "# Performance standard\n",
        "r2 = r2_score(y_test, y_predict)\n",
        "mse = mean_squared_error(y_test, y_predict)\n",
        "\n",
        "\n",
        "# Output\n",
        "print(\"\\n Regression Performance:\")\n",
        "print(f\"R-square value: {r2 : .4f}\")\n",
        "print(f\"Mean squared error: {mse : .6f}\")\n",
        "\n",
        "# Regression equation\n",
        "print(\"\\n Regression equation:\")\n",
        "# y = b0 + b1*x1 + b2*x2 + ... + bn*xn\n",
        "coefficients = model.coef_\n",
        "intercept = model.intercept_\n",
        "equation = f\"Closed price of Apple at 5th day= {intercept : .4f}\"\n",
        "for i, coef in enumerate(coefficients, 1): # start from 1, i.e. newclose_1day\n",
        "    equation += f\" + {coef : .4f}*newclose_{i}day\"\n",
        "\n",
        "print(equation)\n",
        "\n",
        "# Strict answer to user's question\n",
        "print(\"\\n The coefficient before the price of the previous day (newclose_1day) is:\", f\"{coefficients[0] : .4f}\")\n",
        "\n",
        "\n",
        "print(\"==\"*50)\n",
        "# Create decision tree regressor\n",
        "dt_regressor = DTR(random_state=42, max_depth=5)  # Set a random state for reproducibility and limit the depth of the tree to avoid overfitting\n",
        "dt_regressor.fit(X_train, y_train)\n",
        "\n",
        "# Prediction\n",
        "y_predict = dt_regressor.predict(X_test)\n",
        "\n",
        "\n",
        "r2 = r2_score(y_test, y_predict)\n",
        "mse = mean_squared_error(y_test, y_predict)\n",
        "features = [f'newclose_{i}day' for i in range(1, 6)]\n",
        "feature_importance = dt_regressor.feature_importances_\n",
        "\n",
        "\n",
        "# Output\n",
        "print(\"\\n Decision Tree Performance:\")\n",
        "print(f\"R-square value: {r2 : .4f}\")\n",
        "print(f\"Mean squared error: {mse : .6f}\")\n",
        "print(\"\\n Features importance:\")\n",
        "for i, importance in enumerate(feature_importance):\n",
        "    print(f\"{features[i]}: {importance : .4f}\")"
      ]
    }
  ],
  "metadata": {
    "colab": {
      "provenance": []
    },
    "kernelspec": {
      "display_name": "Python 3",
      "language": "python",
      "name": "python3"
    },
    "language_info": {
      "codemirror_mode": {
        "name": "ipython",
        "version": 3
      },
      "file_extension": ".py",
      "mimetype": "text/x-python",
      "name": "python",
      "nbconvert_exporter": "python",
      "pygments_lexer": "ipython3",
      "version": "3.13.3"
    }
  },
  "nbformat": 4,
  "nbformat_minor": 5
}
