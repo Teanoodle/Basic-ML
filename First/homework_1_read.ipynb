{
  "cells": [
    {
      "cell_type": "markdown",
      "id": "24907a36",
      "metadata": {
        "id": "24907a36"
      },
      "source": [
        "# Problem Sheet 1\n"
      ]
    },
    {
      "cell_type": "markdown",
      "id": "072db3d8",
      "metadata": {
        "id": "072db3d8"
      },
      "source": [
        "In this problem sheet, you are expected to\n",
        "- Import the datas from either online/local data source;\n",
        "- Perform exploratory data analysis, data imputation;\n",
        "- Divide data into train set and test set;\n",
        "- Experience how model fitting, model evaluation works (without going into the \"blackbox\")"
      ]
    },
    {
      "cell_type": "markdown",
      "id": "f30a92e0",
      "metadata": {
        "id": "f30a92e0"
      },
      "source": [
        "### Question 1 : Data Importation"
      ]
    },
    {
      "cell_type": "markdown",
      "id": "593a4ad3",
      "metadata": {
        "id": "593a4ad3"
      },
      "source": [
        "1. Import the S&P500 stocks price datas (all_stocks_5yr.csv) as pandas Dataframe into your notebook, from the source Dataset: https://www.kaggle.com/camnugent/sandp500, name this data frame as \"sp500\"."
      ]
    },
    {
      "cell_type": "code",
      "execution_count": null,
      "id": "f1e973ef",
      "metadata": {
        "id": "f1e973ef"
      },
      "outputs": [],
      "source": []
    },
    {
      "cell_type": "markdown",
      "id": "efd8937c",
      "metadata": {
        "id": "efd8937c"
      },
      "source": [
        "### Question 2 : Data Exploration\n"
      ]
    },
    {
      "cell_type": "markdown",
      "id": "db85f1ce",
      "metadata": {
        "id": "db85f1ce"
      },
      "source": [
        "2. What is the shape of your data? (how many rows and columns?)"
      ]
    },
    {
      "cell_type": "code",
      "execution_count": null,
      "id": "589c23f8",
      "metadata": {
        "id": "589c23f8"
      },
      "outputs": [],
      "source": []
    },
    {
      "cell_type": "markdown",
      "id": "cad92a29",
      "metadata": {
        "id": "cad92a29"
      },
      "source": [
        "3. Are there missing values in the data? What is missing?"
      ]
    },
    {
      "cell_type": "code",
      "execution_count": null,
      "id": "99c3c534",
      "metadata": {
        "id": "99c3c534"
      },
      "outputs": [],
      "source": []
    },
    {
      "cell_type": "markdown",
      "id": "97c127ae",
      "metadata": {
        "id": "97c127ae"
      },
      "source": [
        "4. What are the tickers of S&P500 index? (You can find them in the column \"name\"). Which ticker stands for Apple ?"
      ]
    },
    {
      "cell_type": "code",
      "execution_count": null,
      "id": "32c3fff4",
      "metadata": {
        "id": "32c3fff4"
      },
      "outputs": [],
      "source": []
    },
    {
      "cell_type": "markdown",
      "id": "f855709c",
      "metadata": {
        "id": "f855709c"
      },
      "source": [
        "5. What is the starting date and last date of this sp500 data?"
      ]
    },
    {
      "cell_type": "code",
      "execution_count": null,
      "id": "64b62445",
      "metadata": {
        "id": "64b62445"
      },
      "outputs": [],
      "source": []
    },
    {
      "cell_type": "markdown",
      "id": "33fd7e98",
      "metadata": {
        "id": "33fd7e98"
      },
      "source": [
        "6.  Plot a line chart showing Apple stock prices from 2014-01-01 to 2016-12-31, including open/high/low/closed prices, in the same chart."
      ]
    },
    {
      "cell_type": "code",
      "execution_count": null,
      "id": "bf121bf5",
      "metadata": {
        "id": "bf121bf5"
      },
      "outputs": [],
      "source": []
    },
    {
      "cell_type": "markdown",
      "id": "5eccf03f",
      "metadata": {
        "id": "5eccf03f"
      },
      "source": [
        "7. which are the top 5 stocks whose closed prices have highest positive/negative correlation with that of Apple?"
      ]
    },
    {
      "cell_type": "code",
      "execution_count": null,
      "id": "cd6f8d1b",
      "metadata": {
        "id": "cd6f8d1b"
      },
      "outputs": [],
      "source": []
    },
    {
      "cell_type": "markdown",
      "id": "f654df3d",
      "metadata": {
        "id": "f654df3d"
      },
      "source": [
        "### Question 3 : Data Preparation\n",
        "\n"
      ]
    },
    {
      "cell_type": "markdown",
      "id": "fefd2522",
      "metadata": {
        "id": "fefd2522"
      },
      "source": [
        "8. Deal with the missing data, if there are any of them."
      ]
    },
    {
      "cell_type": "code",
      "execution_count": null,
      "id": "05eae629",
      "metadata": {
        "id": "05eae629"
      },
      "outputs": [],
      "source": []
    },
    {
      "cell_type": "markdown",
      "id": "8a68e059",
      "metadata": {
        "id": "8a68e059"
      },
      "source": [
        "9. Extract the data of Apple, name them as \"apple\""
      ]
    },
    {
      "cell_type": "code",
      "execution_count": null,
      "id": "c349610e",
      "metadata": {
        "id": "c349610e"
      },
      "outputs": [],
      "source": []
    },
    {
      "cell_type": "markdown",
      "id": "82b7d419",
      "metadata": {
        "id": "82b7d419"
      },
      "source": [
        "10. Prepare data for training. Write a **pipeline** which consists:\n",
        "\n",
        "\n",
        "*   An **imputater**: It fills in the missing data with the average of the previous day and the next day.  \n",
        "*   An **attributesadder**: It adds the prices of previous 5 days as new attributes.\n",
        "*   An **scaler**: It scales everything numerical data into values between 0 and 1.\n",
        "\n",
        "\n",
        "\n",
        "\n",
        "\n"
      ]
    },
    {
      "cell_type": "code",
      "execution_count": null,
      "id": "5de9e4c8",
      "metadata": {
        "id": "5de9e4c8"
      },
      "outputs": [],
      "source": []
    },
    {
      "cell_type": "markdown",
      "id": "2663eb57",
      "metadata": {
        "id": "2663eb57"
      },
      "source": [
        "11. Divide the datas into train_set and test_set. Remember we are dealing with time series data. Refer [here](https://scikit-learn.org/stable/modules/generated/sklearn.model_selection.TimeSeriesSplit.html) for details."
      ]
    },
    {
      "cell_type": "code",
      "execution_count": null,
      "id": "3ed8eac2",
      "metadata": {
        "id": "3ed8eac2"
      },
      "outputs": [],
      "source": []
    },
    {
      "cell_type": "markdown",
      "id": "d196ed83",
      "metadata": {
        "id": "d196ed83"
      },
      "source": [
        "### Question 4 : Prediction, and Evaluation\n",
        "\n",
        "\n"
      ]
    },
    {
      "cell_type": "markdown",
      "id": "200b5a2c",
      "metadata": {
        "id": "200b5a2c"
      },
      "source": [
        "12. Using the Linear Regression Model to predict the closed price of Apple by its price in the last 5 days.\n",
        "\n",
        "\n",
        "*   Report the R-square value\n",
        "*   Report the mean squared error.\n",
        "*   Report the equation of regression. In particular, what is the coefficient before the price of the previous day?     \n",
        "\n"
      ]
    },
    {
      "cell_type": "markdown",
      "id": "08740bb3",
      "metadata": {
        "id": "08740bb3"
      },
      "source": [
        "13. Using the Decision Tree Regression Model to predict the closed price of Apple by its price in the last 5 days.\n",
        "\n",
        "\n",
        "*   Report the R-square value\n",
        "*   Report the mean squared error.\n",
        "*   Report the features importance."
      ]
    },
    {
      "cell_type": "markdown",
      "id": "Jvm3n81m5v46",
      "metadata": {
        "id": "Jvm3n81m5v46"
      },
      "source": [
        "14. Now instead of predict the price of the next day, predict the price after 5 days, using the two models mentioned before. What are their performances?"
      ]
    }
  ],
  "metadata": {
    "colab": {
      "provenance": []
    },
    "kernelspec": {
      "display_name": "Python 3 (ipykernel)",
      "language": "python",
      "name": "python3"
    },
    "language_info": {
      "codemirror_mode": {
        "name": "ipython",
        "version": 3
      },
      "file_extension": ".py",
      "mimetype": "text/x-python",
      "name": "python",
      "nbconvert_exporter": "python",
      "pygments_lexer": "ipython3",
      "version": "3.9.7"
    }
  },
  "nbformat": 4,
  "nbformat_minor": 5
}
