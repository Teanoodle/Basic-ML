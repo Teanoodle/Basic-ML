{
  "cells": [
    {
      "cell_type": "markdown",
      "id": "24907a36",
      "metadata": {
        "id": "24907a36"
      },
      "source": [
        "# Problem Sheet 2\n"
      ]
    },
    {
      "cell_type": "markdown",
      "id": "072db3d8",
      "metadata": {
        "id": "072db3d8"
      },
      "source": [
        "In this problem sheet, you are expected to deal with a classification problem for loan approval. You will develop ability of\n",
        "- Importing the datas from either online/local data source;\n",
        "- Performing feature engineering\n",
        "- Demonstrating the ability to apply various classification models\n",
        "- Comparing the performance of different models."
      ]
    },
    {
      "cell_type": "markdown",
      "id": "593a4ad3",
      "metadata": {
        "id": "593a4ad3"
      },
      "source": [
        "1. Import the loan approval data for clients (\"loan_approval_dataset.csv\") as Pandas Dataframe into your notebook, name it as \"loan_data\". Are there any missing data? Which features are numerical, and which features are categorical?"
      ]
    },
    {
      "cell_type": "code",
      "source": [],
      "metadata": {
        "id": "fzkdRu60jmMe"
      },
      "id": "fzkdRu60jmMe",
      "execution_count": null,
      "outputs": []
    },
    {
      "cell_type": "markdown",
      "source": [
        "2. Perform the EDA."
      ],
      "metadata": {
        "id": "oo5LkyV2joK_"
      },
      "id": "oo5LkyV2joK_"
    },
    {
      "cell_type": "code",
      "source": [],
      "metadata": {
        "id": "FY_7QFYsp7bM"
      },
      "id": "FY_7QFYsp7bM",
      "execution_count": null,
      "outputs": []
    },
    {
      "cell_type": "markdown",
      "id": "cad92a29",
      "metadata": {
        "id": "cad92a29"
      },
      "source": [
        "3. Implement a pipeline which:\n",
        "\n",
        "\n",
        "*   Drop the column 'loan_id' from loan_data.\n",
        "*   Encode the categorical data\n",
        "*   Scale the numerical attributes by standardization.\n",
        "\n"
      ]
    },
    {
      "cell_type": "code",
      "source": [],
      "metadata": {
        "id": "-d7LDG-Zp8XV"
      },
      "id": "-d7LDG-Zp8XV",
      "execution_count": null,
      "outputs": []
    },
    {
      "cell_type": "markdown",
      "id": "33fd7e98",
      "metadata": {
        "id": "33fd7e98"
      },
      "source": [
        "4.  Split the data into training data (80%) and testing data (20%)."
      ]
    },
    {
      "cell_type": "code",
      "source": [],
      "metadata": {
        "id": "6c9NdQDhp_Ms"
      },
      "id": "6c9NdQDhp_Ms",
      "execution_count": null,
      "outputs": []
    },
    {
      "cell_type": "markdown",
      "id": "5eccf03f",
      "metadata": {
        "id": "5eccf03f"
      },
      "source": [
        "5. Apply the following classifiers:\n",
        "\n",
        "*   Linear Regression\n",
        "*   SVM  \n",
        "*   Decision Tree\n",
        "*   Random Forest\n",
        "*   KNN\n",
        "\n",
        "For each model, provide the following information:\n",
        "* Accuracy\n",
        "* Precision\n",
        "* Recall\n",
        "* F1 Score\n",
        "* Classification Report\n",
        "\n"
      ]
    },
    {
      "cell_type": "code",
      "execution_count": null,
      "id": "cd6f8d1b",
      "metadata": {
        "id": "cd6f8d1b"
      },
      "outputs": [],
      "source": []
    },
    {
      "cell_type": "markdown",
      "id": "fefd2522",
      "metadata": {
        "id": "fefd2522"
      },
      "source": [
        "6. Apply the ensemble voting classifier (hard voting), with the above five models being individual classifiers.  Provide the following information:\n",
        "* Accuracy\n",
        "* Precision\n",
        "* Recall\n",
        "* F1 Score\n",
        "* Classification Report"
      ]
    },
    {
      "cell_type": "code",
      "source": [],
      "metadata": {
        "id": "1-h4cUIvVZEp"
      },
      "id": "1-h4cUIvVZEp",
      "execution_count": null,
      "outputs": []
    },
    {
      "cell_type": "markdown",
      "id": "8a68e059",
      "metadata": {
        "id": "8a68e059"
      },
      "source": [
        "7. Among all the models tested so far, which one has the best performance? Explain your answer."
      ]
    },
    {
      "cell_type": "code",
      "execution_count": null,
      "id": "c349610e",
      "metadata": {
        "id": "c349610e"
      },
      "outputs": [],
      "source": []
    }
  ],
  "metadata": {
    "kernelspec": {
      "display_name": "Python 3 (ipykernel)",
      "language": "python",
      "name": "python3"
    },
    "language_info": {
      "codemirror_mode": {
        "name": "ipython",
        "version": 3
      },
      "file_extension": ".py",
      "mimetype": "text/x-python",
      "name": "python",
      "nbconvert_exporter": "python",
      "pygments_lexer": "ipython3",
      "version": "3.9.7"
    },
    "colab": {
      "provenance": []
    }
  },
  "nbformat": 4,
  "nbformat_minor": 5
}